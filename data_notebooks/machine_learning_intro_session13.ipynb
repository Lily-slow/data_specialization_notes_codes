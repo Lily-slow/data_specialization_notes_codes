{
 "cells": [
  {
   "cell_type": "markdown",
   "metadata": {
    "slideshow": {
     "slide_type": "slide"
    }
   },
   "source": [
    "## OBJECTIVES\n",
    "\n",
    "- We want to get a taste of data manipulation and a little bit of machine learning using python.\n",
    "- This will be just the tip of the iceberg, but a crucial step that will let us practice our skills. \n",
    "- Let's do a very simple example, but ensure that we understand every step along the way\n",
    "\n",
    "<img src=\"data/images/ml.jpg\" style=\"width:700px;\" />"
   ]
  },
  {
   "cell_type": "markdown",
   "metadata": {
    "slideshow": {
     "slide_type": "slide"
    }
   },
   "source": [
    "## OVERVIEW\n",
    "\n",
    "<img src=\"data/images/adults.png\" style=\"width:700px;\"/>\n",
    "\n",
    "- We are going to use a very popular dataset borrowed from one of the open-source Machine Learning Repositories\n",
    "- Let's say this dataset is called 'Adult' and it contains information about different adults and their profiles. \n",
    "- There are two files: one is used to 'train' a machine (build  a model) and the other one is used for testing. \n",
    "- In this dataset the dependent variable is 'target' ( i.e. we focus on the column called 'target')\n",
    "- This example is a binary classification problem. \n",
    "- __Objective:__ _teach a machine to predict if the salary of a given person is less than or more than 50K_"
   ]
  },
  {
   "cell_type": "code",
   "execution_count": 1,
   "metadata": {
    "slideshow": {
     "slide_type": "subslide"
    }
   },
   "outputs": [],
   "source": [
    "import pandas as pd\n",
    "\n",
    "#loading data\n",
    "\n",
    "train  = pd.read_csv(\"data/ml1_train.csv\")\n",
    "test = pd.read_csv(\"data/ml1_test.csv\")"
   ]
  },
  {
   "cell_type": "code",
   "execution_count": 2,
   "metadata": {
    "slideshow": {
     "slide_type": "subslide"
    }
   },
   "outputs": [
    {
     "name": "stdout",
     "output_type": "stream",
     "text": [
      "<class 'pandas.core.frame.DataFrame'>\n",
      "RangeIndex: 32561 entries, 0 to 32560\n",
      "Data columns (total 15 columns):\n",
      " #   Column          Non-Null Count  Dtype \n",
      "---  ------          --------------  ----- \n",
      " 0   age             32561 non-null  int64 \n",
      " 1   workclass       30725 non-null  object\n",
      " 2   fnlwgt          32561 non-null  int64 \n",
      " 3   education       32561 non-null  object\n",
      " 4   education.num   32561 non-null  int64 \n",
      " 5   marital.status  32561 non-null  object\n",
      " 6   occupation      30718 non-null  object\n",
      " 7   relationship    32561 non-null  object\n",
      " 8   race            32561 non-null  object\n",
      " 9   sex             32561 non-null  object\n",
      " 10  capital.gain    32561 non-null  int64 \n",
      " 11  capital.loss    32561 non-null  int64 \n",
      " 12  hours.per.week  32561 non-null  int64 \n",
      " 13  native.country  31978 non-null  object\n",
      " 14  target          32561 non-null  object\n",
      "dtypes: int64(6), object(9)\n",
      "memory usage: 3.7+ MB\n"
     ]
    }
   ],
   "source": [
    "#let's review our main dataset\n",
    "train.info()\n",
    "\n",
    "# RESULT: the train data has 32561 rows and 15 columns. \n",
    "# Out of these 15 columns, 6 have integers classes and the rest have object (or character) classes. \n",
    "# *we can do a similar check for test data. "
   ]
  },
  {
   "cell_type": "code",
   "execution_count": 3,
   "metadata": {
    "slideshow": {
     "slide_type": "subslide"
    }
   },
   "outputs": [
    {
     "name": "stdout",
     "output_type": "stream",
     "text": [
      "The train data has 32561 rows and 15 columns\n",
      "The test data has 16281 rows and 15 columns\n"
     ]
    }
   ],
   "source": [
    "# alternative way of checking dataset columns\n",
    "\n",
    "print (f\"The train data has {train.shape[0]} rows and {train.shape[1]} columns\")\n",
    "print (f\"The test data has {test.shape[0]} rows and {test.shape[1]} columns\")\n"
   ]
  },
  {
   "cell_type": "code",
   "execution_count": 4,
   "metadata": {
    "slideshow": {
     "slide_type": "subslide"
    }
   },
   "outputs": [
    {
     "data": {
      "text/plain": "   age          workclass  fnlwgt   education  education.num   \n0   39          State-gov   77516   Bachelors             13  \\\n1   50   Self-emp-not-inc   83311   Bachelors             13   \n2   38            Private  215646     HS-grad              9   \n3   53            Private  234721        11th              7   \n4   28            Private  338409   Bachelors             13   \n5   37            Private  284582     Masters             14   \n6   49            Private  160187         9th              5   \n7   52   Self-emp-not-inc  209642     HS-grad              9   \n8   31            Private   45781     Masters             14   \n9   42            Private  159449   Bachelors             13   \n\n           marital.status          occupation    relationship    race   \n0           Never-married        Adm-clerical   Not-in-family   White  \\\n1      Married-civ-spouse     Exec-managerial         Husband   White   \n2                Divorced   Handlers-cleaners   Not-in-family   White   \n3      Married-civ-spouse   Handlers-cleaners         Husband   Black   \n4      Married-civ-spouse      Prof-specialty            Wife   Black   \n5      Married-civ-spouse     Exec-managerial            Wife   White   \n6   Married-spouse-absent       Other-service   Not-in-family   Black   \n7      Married-civ-spouse     Exec-managerial         Husband   White   \n8           Never-married      Prof-specialty   Not-in-family   White   \n9      Married-civ-spouse     Exec-managerial         Husband   White   \n\n       sex  capital.gain  capital.loss  hours.per.week  native.country  target  \n0     Male          2174             0              40   United-States   <=50K  \n1     Male             0             0              13   United-States   <=50K  \n2     Male             0             0              40   United-States   <=50K  \n3     Male             0             0              40   United-States   <=50K  \n4   Female             0             0              40            Cuba   <=50K  \n5   Female             0             0              40   United-States   <=50K  \n6   Female             0             0              16         Jamaica   <=50K  \n7     Male             0             0              45   United-States    >50K  \n8   Female         14084             0              50   United-States    >50K  \n9     Male          5178             0              40   United-States    >50K  ",
      "text/html": "<div>\n<style scoped>\n    .dataframe tbody tr th:only-of-type {\n        vertical-align: middle;\n    }\n\n    .dataframe tbody tr th {\n        vertical-align: top;\n    }\n\n    .dataframe thead th {\n        text-align: right;\n    }\n</style>\n<table border=\"1\" class=\"dataframe\">\n  <thead>\n    <tr style=\"text-align: right;\">\n      <th></th>\n      <th>age</th>\n      <th>workclass</th>\n      <th>fnlwgt</th>\n      <th>education</th>\n      <th>education.num</th>\n      <th>marital.status</th>\n      <th>occupation</th>\n      <th>relationship</th>\n      <th>race</th>\n      <th>sex</th>\n      <th>capital.gain</th>\n      <th>capital.loss</th>\n      <th>hours.per.week</th>\n      <th>native.country</th>\n      <th>target</th>\n    </tr>\n  </thead>\n  <tbody>\n    <tr>\n      <th>0</th>\n      <td>39</td>\n      <td>State-gov</td>\n      <td>77516</td>\n      <td>Bachelors</td>\n      <td>13</td>\n      <td>Never-married</td>\n      <td>Adm-clerical</td>\n      <td>Not-in-family</td>\n      <td>White</td>\n      <td>Male</td>\n      <td>2174</td>\n      <td>0</td>\n      <td>40</td>\n      <td>United-States</td>\n      <td>&lt;=50K</td>\n    </tr>\n    <tr>\n      <th>1</th>\n      <td>50</td>\n      <td>Self-emp-not-inc</td>\n      <td>83311</td>\n      <td>Bachelors</td>\n      <td>13</td>\n      <td>Married-civ-spouse</td>\n      <td>Exec-managerial</td>\n      <td>Husband</td>\n      <td>White</td>\n      <td>Male</td>\n      <td>0</td>\n      <td>0</td>\n      <td>13</td>\n      <td>United-States</td>\n      <td>&lt;=50K</td>\n    </tr>\n    <tr>\n      <th>2</th>\n      <td>38</td>\n      <td>Private</td>\n      <td>215646</td>\n      <td>HS-grad</td>\n      <td>9</td>\n      <td>Divorced</td>\n      <td>Handlers-cleaners</td>\n      <td>Not-in-family</td>\n      <td>White</td>\n      <td>Male</td>\n      <td>0</td>\n      <td>0</td>\n      <td>40</td>\n      <td>United-States</td>\n      <td>&lt;=50K</td>\n    </tr>\n    <tr>\n      <th>3</th>\n      <td>53</td>\n      <td>Private</td>\n      <td>234721</td>\n      <td>11th</td>\n      <td>7</td>\n      <td>Married-civ-spouse</td>\n      <td>Handlers-cleaners</td>\n      <td>Husband</td>\n      <td>Black</td>\n      <td>Male</td>\n      <td>0</td>\n      <td>0</td>\n      <td>40</td>\n      <td>United-States</td>\n      <td>&lt;=50K</td>\n    </tr>\n    <tr>\n      <th>4</th>\n      <td>28</td>\n      <td>Private</td>\n      <td>338409</td>\n      <td>Bachelors</td>\n      <td>13</td>\n      <td>Married-civ-spouse</td>\n      <td>Prof-specialty</td>\n      <td>Wife</td>\n      <td>Black</td>\n      <td>Female</td>\n      <td>0</td>\n      <td>0</td>\n      <td>40</td>\n      <td>Cuba</td>\n      <td>&lt;=50K</td>\n    </tr>\n    <tr>\n      <th>5</th>\n      <td>37</td>\n      <td>Private</td>\n      <td>284582</td>\n      <td>Masters</td>\n      <td>14</td>\n      <td>Married-civ-spouse</td>\n      <td>Exec-managerial</td>\n      <td>Wife</td>\n      <td>White</td>\n      <td>Female</td>\n      <td>0</td>\n      <td>0</td>\n      <td>40</td>\n      <td>United-States</td>\n      <td>&lt;=50K</td>\n    </tr>\n    <tr>\n      <th>6</th>\n      <td>49</td>\n      <td>Private</td>\n      <td>160187</td>\n      <td>9th</td>\n      <td>5</td>\n      <td>Married-spouse-absent</td>\n      <td>Other-service</td>\n      <td>Not-in-family</td>\n      <td>Black</td>\n      <td>Female</td>\n      <td>0</td>\n      <td>0</td>\n      <td>16</td>\n      <td>Jamaica</td>\n      <td>&lt;=50K</td>\n    </tr>\n    <tr>\n      <th>7</th>\n      <td>52</td>\n      <td>Self-emp-not-inc</td>\n      <td>209642</td>\n      <td>HS-grad</td>\n      <td>9</td>\n      <td>Married-civ-spouse</td>\n      <td>Exec-managerial</td>\n      <td>Husband</td>\n      <td>White</td>\n      <td>Male</td>\n      <td>0</td>\n      <td>0</td>\n      <td>45</td>\n      <td>United-States</td>\n      <td>&gt;50K</td>\n    </tr>\n    <tr>\n      <th>8</th>\n      <td>31</td>\n      <td>Private</td>\n      <td>45781</td>\n      <td>Masters</td>\n      <td>14</td>\n      <td>Never-married</td>\n      <td>Prof-specialty</td>\n      <td>Not-in-family</td>\n      <td>White</td>\n      <td>Female</td>\n      <td>14084</td>\n      <td>0</td>\n      <td>50</td>\n      <td>United-States</td>\n      <td>&gt;50K</td>\n    </tr>\n    <tr>\n      <th>9</th>\n      <td>42</td>\n      <td>Private</td>\n      <td>159449</td>\n      <td>Bachelors</td>\n      <td>13</td>\n      <td>Married-civ-spouse</td>\n      <td>Exec-managerial</td>\n      <td>Husband</td>\n      <td>White</td>\n      <td>Male</td>\n      <td>5178</td>\n      <td>0</td>\n      <td>40</td>\n      <td>United-States</td>\n      <td>&gt;50K</td>\n    </tr>\n  </tbody>\n</table>\n</div>"
     },
     "execution_count": 4,
     "metadata": {},
     "output_type": "execute_result"
    }
   ],
   "source": [
    "# see what the data looks like\n",
    "\n",
    "train.head(10)"
   ]
  },
  {
   "cell_type": "code",
   "execution_count": null,
   "metadata": {
    "slideshow": {
     "slide_type": "subslide"
    }
   },
   "outputs": [],
   "source": [
    "# check if we have missing values in our data\n",
    "\n",
    "na_train = train.shape[0] - train.dropna().shape[0]\n",
    "print (f\"{na_train} rows have missing values in the train data\")\n",
    "\n",
    "na_test = test.shape[0] - test.dropna().shape[0]\n",
    "print (f\"{na_test} rows have missing values in the test data\")"
   ]
  },
  {
   "cell_type": "code",
   "execution_count": null,
   "metadata": {
    "slideshow": {
     "slide_type": "subslide"
    }
   },
   "outputs": [],
   "source": [
    "# Now let's check which columns have missing values\n",
    "train.isnull().sum()"
   ]
  },
  {
   "cell_type": "code",
   "execution_count": null,
   "metadata": {
    "slideshow": {
     "slide_type": "subslide"
    }
   },
   "outputs": [],
   "source": [
    "# Let's check our character columns - how many unique values does each column hold\n",
    "\n",
    "categories = train.select_dtypes(include=['object'])\n",
    "categories.apply(pd.Series.nunique)"
   ]
  },
  {
   "cell_type": "markdown",
   "metadata": {
    "slideshow": {
     "slide_type": "subslide"
    }
   },
   "source": [
    "#### Dealing with missing values\n",
    "\n",
    " - we identified that we had three columns where some values were missing\n",
    " - these columns affect our records, but we don't want to scrap or lose them completely!\n",
    " - Let's impute these missing values with respective modes\n",
    " \n",
    " "
   ]
  },
  {
   "cell_type": "code",
   "execution_count": null,
   "metadata": {},
   "outputs": [],
   "source": [
    "train.workclass.value_counts(sort=True)"
   ]
  },
  {
   "cell_type": "code",
   "execution_count": null,
   "metadata": {},
   "outputs": [],
   "source": [
    "train.occupation.value_counts(sort=True)"
   ]
  },
  {
   "cell_type": "code",
   "execution_count": null,
   "metadata": {},
   "outputs": [],
   "source": [
    "train['native.country'].value_counts(sort=True)"
   ]
  },
  {
   "cell_type": "code",
   "execution_count": null,
   "metadata": {
    "slideshow": {
     "slide_type": "subslide"
    }
   },
   "outputs": [],
   "source": [
    "# replacing NULL values with most suitable values \n",
    "# (replacing based on existing data -  check your .csv files to understand where these come from )\n",
    "\n",
    "#Workclass\n",
    "train.workclass = train.workclass.str.strip()\n",
    "train.workclass.fillna('Private',inplace=True)\n",
    "\n",
    "\n",
    "#Occupation\n",
    "train.occupation = train.occupation.str.strip()\n",
    "train.occupation.fillna('Prof-specialty',inplace=True)\n",
    "\n",
    "\n",
    "#Native Country\n",
    "train['native.country'] = train['native.country'].str.strip()\n",
    "train['native.country'].fillna('United-States',inplace=True)"
   ]
  },
  {
   "cell_type": "code",
   "execution_count": null,
   "metadata": {
    "slideshow": {
     "slide_type": "subslide"
    }
   },
   "outputs": [],
   "source": [
    "# Check no missing values are left in the dataset\n",
    "train.isnull().sum()"
   ]
  },
  {
   "cell_type": "code",
   "execution_count": null,
   "metadata": {
    "slideshow": {
     "slide_type": "subslide"
    }
   },
   "outputs": [],
   "source": [
    "# Let's check the 'target' variable (values in the 'target' column) to investigate if this data is imbalanced or not.\n",
    "\n",
    "# check proportions % of target variable (there are only 2 unique values, \n",
    "# so we should get a % split of these values in our dataset)\n",
    "train.target.value_counts()/train.shape[0]"
   ]
  },
  {
   "cell_type": "markdown",
   "metadata": {
    "slideshow": {
     "slide_type": "subslide"
    }
   },
   "source": [
    "<div class=\"alert alert-block alert-info\">\n",
    "<b>75% of the data set belongs to less than 50K class. This means that even if we take a rough guess of target prediction as less than 50K, we'll get 75% accuracy.</b>\n",
    "Let's create a cross tab of the target variable with education. With this, we'll try to understand the influence of education on the target variable.\n",
    "</div>"
   ]
  },
  {
   "cell_type": "code",
   "execution_count": null,
   "metadata": {
    "slideshow": {
     "slide_type": "subslide"
    }
   },
   "outputs": [],
   "source": [
    "# Multiplying by 100 to make the percentages easier to read\n",
    "pd.crosstab(train.education, train.target,margins=True)/train.shape[0]*100"
   ]
  },
  {
   "cell_type": "markdown",
   "metadata": {
    "slideshow": {
     "slide_type": "subslide"
    }
   },
   "source": [
    "\n",
    "\n",
    "### FINDINGS: \n",
    "\n",
    "__out of 75% people with <=50K salary:__ \n",
    "\n",
    "- 27% people are high school graduates, which is correct as people with lower levels of education are expected to earn less. \n",
    "\n",
    "__out of 25% people with >=50K salary:__ \n",
    "\n",
    "- 6% are bachelors and 5% are high-school grads. ==> _this pattern seems to be a matter of concern! We have to consider more variables before coming to a conclusion._\n",
    "\n",
    "\n"
   ]
  },
  {
   "cell_type": "markdown",
   "metadata": {
    "slideshow": {
     "slide_type": "subslide"
    }
   },
   "source": [
    "## SCIKIT\n",
    "\n",
    "- Let's try to utilise the mighty SciKit library for the next step. \n",
    "- https://scikit-learn.org/stable/\n",
    "\n",
    "- __IMPORTANT: Scikit accepts data in numeric format! It means that we need to convert the character variables into numeric.__  \n",
    "\n",
    "\n",
    "- To do our conversion, we will use the _labelencoder_ function.\n",
    "\n",
    "- __IMPORTANT: In label encoding, each unique value of a variable gets assigned a number.__ Example: a variable fruit has four values: 'apple', 'banana', 'kiwi', 'melon'. Label encoding this variable will return output as: apple = 2 banana = 0 kiwi = 1 melon = 3"
   ]
  },
  {
   "cell_type": "code",
   "execution_count": null,
   "metadata": {
    "slideshow": {
     "slide_type": "subslide"
    }
   },
   "outputs": [],
   "source": [
    "# let's encode all object type variables\n",
    "\n",
    "from sklearn import preprocessing\n",
    "\n",
    "for x in train.columns:\n",
    "    if train[x].dtype == 'object':\n",
    "        lbl = preprocessing.LabelEncoder() # encoding\n",
    "        lbl.fit(list(train[x].values)) # fitting the model\n",
    "        train[x] = lbl.transform(list(train[x].values))\n"
   ]
  },
  {
   "cell_type": "code",
   "execution_count": null,
   "metadata": {
    "slideshow": {
     "slide_type": "subslide"
    }
   },
   "outputs": [],
   "source": [
    "# examine the dataset again to see how our encoding changes have been applied\n",
    "\n",
    "train.head(20)"
   ]
  },
  {
   "cell_type": "markdown",
   "metadata": {
    "slideshow": {
     "slide_type": "slide"
    }
   },
   "source": [
    "### CLOSING REMARKS\n",
    "\n",
    "1. It was our first step towards familiarising ourselves with the world of Machine Learning.\n",
    "1. Hopeully you found it interesting!\n",
    "1. Next time we will cover more individual examples of ML processing and SciKit library. \n",
    "1. Remember, it takes months and sometimes years to build, fit and validate solid ML models. We won't be able to complete the full cycle, but we will focus on key concepts, preprocessing and visualisation ¯\\_(ツ)_/¯\n",
    "\n",
    "<img src=\"data/images/remarks.jpeg\" style=\"width:200px;\" />"
   ]
  }
 ],
 "metadata": {
  "celltoolbar": "Slideshow",
  "kernelspec": {
   "display_name": "Python 3 (ipykernel)",
   "language": "python",
   "name": "python3"
  },
  "language_info": {
   "codemirror_mode": {
    "name": "ipython",
    "version": 3
   },
   "file_extension": ".py",
   "mimetype": "text/x-python",
   "name": "python",
   "nbconvert_exporter": "python",
   "pygments_lexer": "ipython3",
   "version": "3.10.5"
  }
 },
 "nbformat": 4,
 "nbformat_minor": 4
}
