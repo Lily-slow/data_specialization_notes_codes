{
 "cells": [
  {
   "cell_type": "markdown",
   "metadata": {
    "slideshow": {
     "slide_type": "slide"
    }
   },
   "source": [
    "## Some of the key lessons from last session\n",
    "\n",
    "\n",
    "<img src=\"../data/images/keypoints.jpg\"  style=\"width: 500px;\" />\n",
    "\n",
    "1. Pandas - how it helps\n",
    "2. How to read CSVs and Excels in Pandas\n",
    "3. How to perform basic operations\n",
    "\n"
   ]
  },
  {
   "cell_type": "markdown",
   "metadata": {
    "slideshow": {
     "slide_type": "slide"
    }
   },
   "source": [
    "## In this lesson\n",
    "\n",
    "\n",
    "<img src=\"../data/images/objectives.jpg\"  style=\"width:500px;\" />\n",
    "\n",
    "1. How to handle copmplex excels in Pandas.\n",
    "2. Sharpening your pandas toolkit\n",
    "5. How to say it with charts\n",
    "\n"
   ]
  },
  {
   "cell_type": "markdown",
   "metadata": {
    "slideshow": {
     "slide_type": "slide"
    }
   },
   "source": [
    "# Reading Multiple Excel Sheets\n",
    "Often excels have more than one tab. <br>\n",
    "Pandas allows us multiple ways to read an excel <br>\n",
    "Lets execute following commands as see the difference"
   ]
  },
  {
   "cell_type": "code",
   "execution_count": 6,
   "metadata": {
    "slideshow": {
     "slide_type": "subslide"
    }
   },
   "outputs": [],
   "source": [
    "import pandas as pd"
   ]
  },
  {
   "cell_type": "code",
   "execution_count": 7,
   "metadata": {
    "slideshow": {
     "slide_type": "slide"
    }
   },
   "outputs": [],
   "source": [
    "first_sheet_only = pd.read_excel('../data/movies.xls')\n",
    "selected_sheet_only = pd.read_excel('../data/movies.xls', sheet_name = '2000s')\n",
    "selected_sheet_only_w_index = pd.read_excel('../data/movies.xls', sheet_name = 1)\n",
    "all_sheets = pd.read_excel('../data/movies.xls', sheet_name = None)"
   ]
  },
  {
   "cell_type": "code",
   "execution_count": 14,
   "metadata": {
    "slideshow": {
     "slide_type": "subslide"
    }
   },
   "outputs": [
    {
     "data": {
      "text/plain": "                                                  Title  Year   \n0     Intolerance: Love's Struggle Throughout the Ages   1916  \\\n1                       Over the Hill to the Poorhouse   1920   \n2                                       The Big Parade   1925   \n3                                           Metropolis   1927   \n4                                        Pandora's Box   1929   \n...                                                 ...   ...   \n1333                                  Twin Falls Idaho   1999   \n1334                     Universal Soldier: The Return   1999   \n1335                                     Varsity Blues   1999   \n1336                                    Wild Wild West   1999   \n1337                                    Wing Commander   1999   \n\n                            Genres Language  Country Content Rating  Duration   \n0                Drama|History|War      NaN      USA      Not Rated       123  \\\n1                      Crime|Drama      NaN      USA            NaN       110   \n2                Drama|Romance|War      NaN      USA      Not Rated       151   \n3                     Drama|Sci-Fi   German  Germany      Not Rated       145   \n4              Crime|Drama|Romance   German  Germany      Not Rated       110   \n...                            ...      ...      ...            ...       ...   \n1333                         Drama  English      USA              R       111   \n1334                 Action|Sci-Fi  English      USA              R        83   \n1335    Comedy|Drama|Romance|Sport  English      USA              R       106   \n1336  Action|Comedy|Sci-Fi|Western  English      USA          PG-13       106   \n1337       Action|Adventure|Sci-Fi  English      USA          PG-13       100   \n\n      Aspect Ratio       Budget  Gross Earnings  ... Facebook Likes - Actor 2   \n0             1.33     385907.0             NaN  ...                       22  \\\n1             1.33     100000.0       3000000.0  ...                        2   \n2             1.33     245000.0             NaN  ...                       12   \n3             1.33    6000000.0         26435.0  ...                       23   \n4             1.33          NaN          9950.0  ...                       20   \n...            ...          ...             ...  ...                      ...   \n1333          1.85     500000.0        985341.0  ...                      505   \n1334          1.85   24000000.0      10431220.0  ...                      577   \n1335          1.85   16000000.0      52885587.0  ...                      255   \n1336          1.85  170000000.0     113745408.0  ...                     4000   \n1337          2.35   30000000.0      11576087.0  ...                      586   \n\n     Facebook Likes - Actor 3 Facebook Likes - cast Total   \n0                         9.0                         481  \\\n1                         0.0                           4   \n2                         6.0                         108   \n3                        18.0                         203   \n4                         3.0                         455   \n...                       ...                         ...   \n1333                    482.0                        3166   \n1334                    485.0                        4024   \n1335                     35.0                       23369   \n1336                    582.0                       15870   \n1337                    362.0                        2497   \n\n     Facebook likes - Movie  Facenumber in posters  User Votes   \n0                       691                      1       10718  \\\n1                         0                      1           5   \n2                       226                      0        4849   \n3                     12000                      1      111841   \n4                       926                      1        7431   \n...                     ...                    ...         ...   \n1333                    180                      0        3479   \n1334                    401                      0       24216   \n1335                      0                      0       35312   \n1336                      0                      2      129601   \n1337                    858                      3       14747   \n\n      Reviews by Users  Reviews by Crtiics  IMDB Score  incrsd_budget  \n0                   88                69.0         8.0       424497.7  \n1                    1                 1.0         4.8       110000.0  \n2                   45                48.0         8.3       269500.0  \n3                  413               260.0         8.3      6600000.0  \n4                   84                71.0         8.0            NaN  \n...                ...                 ...         ...            ...  \n1333                87                54.0         7.3       550000.0  \n1334               162                75.0         4.1     26400000.0  \n1335               267                67.0         6.4     17600000.0  \n1336               648                85.0         4.8    187000000.0  \n1337               338                85.0         4.1     33000000.0  \n\n[1338 rows x 26 columns]",
      "text/html": "<div>\n<style scoped>\n    .dataframe tbody tr th:only-of-type {\n        vertical-align: middle;\n    }\n\n    .dataframe tbody tr th {\n        vertical-align: top;\n    }\n\n    .dataframe thead th {\n        text-align: right;\n    }\n</style>\n<table border=\"1\" class=\"dataframe\">\n  <thead>\n    <tr style=\"text-align: right;\">\n      <th></th>\n      <th>Title</th>\n      <th>Year</th>\n      <th>Genres</th>\n      <th>Language</th>\n      <th>Country</th>\n      <th>Content Rating</th>\n      <th>Duration</th>\n      <th>Aspect Ratio</th>\n      <th>Budget</th>\n      <th>Gross Earnings</th>\n      <th>...</th>\n      <th>Facebook Likes - Actor 2</th>\n      <th>Facebook Likes - Actor 3</th>\n      <th>Facebook Likes - cast Total</th>\n      <th>Facebook likes - Movie</th>\n      <th>Facenumber in posters</th>\n      <th>User Votes</th>\n      <th>Reviews by Users</th>\n      <th>Reviews by Crtiics</th>\n      <th>IMDB Score</th>\n      <th>incrsd_budget</th>\n    </tr>\n  </thead>\n  <tbody>\n    <tr>\n      <th>0</th>\n      <td>Intolerance: Love's Struggle Throughout the Ages</td>\n      <td>1916</td>\n      <td>Drama|History|War</td>\n      <td>NaN</td>\n      <td>USA</td>\n      <td>Not Rated</td>\n      <td>123</td>\n      <td>1.33</td>\n      <td>385907.0</td>\n      <td>NaN</td>\n      <td>...</td>\n      <td>22</td>\n      <td>9.0</td>\n      <td>481</td>\n      <td>691</td>\n      <td>1</td>\n      <td>10718</td>\n      <td>88</td>\n      <td>69.0</td>\n      <td>8.0</td>\n      <td>424497.7</td>\n    </tr>\n    <tr>\n      <th>1</th>\n      <td>Over the Hill to the Poorhouse</td>\n      <td>1920</td>\n      <td>Crime|Drama</td>\n      <td>NaN</td>\n      <td>USA</td>\n      <td>NaN</td>\n      <td>110</td>\n      <td>1.33</td>\n      <td>100000.0</td>\n      <td>3000000.0</td>\n      <td>...</td>\n      <td>2</td>\n      <td>0.0</td>\n      <td>4</td>\n      <td>0</td>\n      <td>1</td>\n      <td>5</td>\n      <td>1</td>\n      <td>1.0</td>\n      <td>4.8</td>\n      <td>110000.0</td>\n    </tr>\n    <tr>\n      <th>2</th>\n      <td>The Big Parade</td>\n      <td>1925</td>\n      <td>Drama|Romance|War</td>\n      <td>NaN</td>\n      <td>USA</td>\n      <td>Not Rated</td>\n      <td>151</td>\n      <td>1.33</td>\n      <td>245000.0</td>\n      <td>NaN</td>\n      <td>...</td>\n      <td>12</td>\n      <td>6.0</td>\n      <td>108</td>\n      <td>226</td>\n      <td>0</td>\n      <td>4849</td>\n      <td>45</td>\n      <td>48.0</td>\n      <td>8.3</td>\n      <td>269500.0</td>\n    </tr>\n    <tr>\n      <th>3</th>\n      <td>Metropolis</td>\n      <td>1927</td>\n      <td>Drama|Sci-Fi</td>\n      <td>German</td>\n      <td>Germany</td>\n      <td>Not Rated</td>\n      <td>145</td>\n      <td>1.33</td>\n      <td>6000000.0</td>\n      <td>26435.0</td>\n      <td>...</td>\n      <td>23</td>\n      <td>18.0</td>\n      <td>203</td>\n      <td>12000</td>\n      <td>1</td>\n      <td>111841</td>\n      <td>413</td>\n      <td>260.0</td>\n      <td>8.3</td>\n      <td>6600000.0</td>\n    </tr>\n    <tr>\n      <th>4</th>\n      <td>Pandora's Box</td>\n      <td>1929</td>\n      <td>Crime|Drama|Romance</td>\n      <td>German</td>\n      <td>Germany</td>\n      <td>Not Rated</td>\n      <td>110</td>\n      <td>1.33</td>\n      <td>NaN</td>\n      <td>9950.0</td>\n      <td>...</td>\n      <td>20</td>\n      <td>3.0</td>\n      <td>455</td>\n      <td>926</td>\n      <td>1</td>\n      <td>7431</td>\n      <td>84</td>\n      <td>71.0</td>\n      <td>8.0</td>\n      <td>NaN</td>\n    </tr>\n    <tr>\n      <th>...</th>\n      <td>...</td>\n      <td>...</td>\n      <td>...</td>\n      <td>...</td>\n      <td>...</td>\n      <td>...</td>\n      <td>...</td>\n      <td>...</td>\n      <td>...</td>\n      <td>...</td>\n      <td>...</td>\n      <td>...</td>\n      <td>...</td>\n      <td>...</td>\n      <td>...</td>\n      <td>...</td>\n      <td>...</td>\n      <td>...</td>\n      <td>...</td>\n      <td>...</td>\n      <td>...</td>\n    </tr>\n    <tr>\n      <th>1333</th>\n      <td>Twin Falls Idaho</td>\n      <td>1999</td>\n      <td>Drama</td>\n      <td>English</td>\n      <td>USA</td>\n      <td>R</td>\n      <td>111</td>\n      <td>1.85</td>\n      <td>500000.0</td>\n      <td>985341.0</td>\n      <td>...</td>\n      <td>505</td>\n      <td>482.0</td>\n      <td>3166</td>\n      <td>180</td>\n      <td>0</td>\n      <td>3479</td>\n      <td>87</td>\n      <td>54.0</td>\n      <td>7.3</td>\n      <td>550000.0</td>\n    </tr>\n    <tr>\n      <th>1334</th>\n      <td>Universal Soldier: The Return</td>\n      <td>1999</td>\n      <td>Action|Sci-Fi</td>\n      <td>English</td>\n      <td>USA</td>\n      <td>R</td>\n      <td>83</td>\n      <td>1.85</td>\n      <td>24000000.0</td>\n      <td>10431220.0</td>\n      <td>...</td>\n      <td>577</td>\n      <td>485.0</td>\n      <td>4024</td>\n      <td>401</td>\n      <td>0</td>\n      <td>24216</td>\n      <td>162</td>\n      <td>75.0</td>\n      <td>4.1</td>\n      <td>26400000.0</td>\n    </tr>\n    <tr>\n      <th>1335</th>\n      <td>Varsity Blues</td>\n      <td>1999</td>\n      <td>Comedy|Drama|Romance|Sport</td>\n      <td>English</td>\n      <td>USA</td>\n      <td>R</td>\n      <td>106</td>\n      <td>1.85</td>\n      <td>16000000.0</td>\n      <td>52885587.0</td>\n      <td>...</td>\n      <td>255</td>\n      <td>35.0</td>\n      <td>23369</td>\n      <td>0</td>\n      <td>0</td>\n      <td>35312</td>\n      <td>267</td>\n      <td>67.0</td>\n      <td>6.4</td>\n      <td>17600000.0</td>\n    </tr>\n    <tr>\n      <th>1336</th>\n      <td>Wild Wild West</td>\n      <td>1999</td>\n      <td>Action|Comedy|Sci-Fi|Western</td>\n      <td>English</td>\n      <td>USA</td>\n      <td>PG-13</td>\n      <td>106</td>\n      <td>1.85</td>\n      <td>170000000.0</td>\n      <td>113745408.0</td>\n      <td>...</td>\n      <td>4000</td>\n      <td>582.0</td>\n      <td>15870</td>\n      <td>0</td>\n      <td>2</td>\n      <td>129601</td>\n      <td>648</td>\n      <td>85.0</td>\n      <td>4.8</td>\n      <td>187000000.0</td>\n    </tr>\n    <tr>\n      <th>1337</th>\n      <td>Wing Commander</td>\n      <td>1999</td>\n      <td>Action|Adventure|Sci-Fi</td>\n      <td>English</td>\n      <td>USA</td>\n      <td>PG-13</td>\n      <td>100</td>\n      <td>2.35</td>\n      <td>30000000.0</td>\n      <td>11576087.0</td>\n      <td>...</td>\n      <td>586</td>\n      <td>362.0</td>\n      <td>2497</td>\n      <td>858</td>\n      <td>3</td>\n      <td>14747</td>\n      <td>338</td>\n      <td>85.0</td>\n      <td>4.1</td>\n      <td>33000000.0</td>\n    </tr>\n  </tbody>\n</table>\n<p>1338 rows × 26 columns</p>\n</div>"
     },
     "execution_count": 14,
     "metadata": {},
     "output_type": "execute_result"
    }
   ],
   "source": [
    "# In this cell check result of variable first_sheet_only\n",
    "first_sheet_only"
   ]
  },
  {
   "cell_type": "code",
   "execution_count": 4,
   "metadata": {
    "slideshow": {
     "slide_type": "subslide"
    }
   },
   "outputs": [
    {
     "data": {
      "text/html": [
       "<div>\n",
       "<style scoped>\n",
       "    .dataframe tbody tr th:only-of-type {\n",
       "        vertical-align: middle;\n",
       "    }\n",
       "\n",
       "    .dataframe tbody tr th {\n",
       "        vertical-align: top;\n",
       "    }\n",
       "\n",
       "    .dataframe thead th {\n",
       "        text-align: right;\n",
       "    }\n",
       "</style>\n",
       "<table border=\"1\" class=\"dataframe\">\n",
       "  <thead>\n",
       "    <tr style=\"text-align: right;\">\n",
       "      <th></th>\n",
       "      <th>Title</th>\n",
       "      <th>Year</th>\n",
       "      <th>Genres</th>\n",
       "      <th>Language</th>\n",
       "      <th>Country</th>\n",
       "      <th>Content Rating</th>\n",
       "      <th>Duration</th>\n",
       "      <th>Aspect Ratio</th>\n",
       "      <th>Budget</th>\n",
       "      <th>Gross Earnings</th>\n",
       "      <th>...</th>\n",
       "      <th>Facebook Likes - Actor 1</th>\n",
       "      <th>Facebook Likes - Actor 2</th>\n",
       "      <th>Facebook Likes - Actor 3</th>\n",
       "      <th>Facebook Likes - cast Total</th>\n",
       "      <th>Facebook likes - Movie</th>\n",
       "      <th>Facenumber in posters</th>\n",
       "      <th>User Votes</th>\n",
       "      <th>Reviews by Users</th>\n",
       "      <th>Reviews by Crtiics</th>\n",
       "      <th>IMDB Score</th>\n",
       "    </tr>\n",
       "  </thead>\n",
       "  <tbody>\n",
       "    <tr>\n",
       "      <th>0</th>\n",
       "      <td>102 Dalmatians</td>\n",
       "      <td>2000</td>\n",
       "      <td>Adventure|Comedy|Family</td>\n",
       "      <td>English</td>\n",
       "      <td>USA</td>\n",
       "      <td>G</td>\n",
       "      <td>100.0</td>\n",
       "      <td>1.85</td>\n",
       "      <td>85000000.0</td>\n",
       "      <td>66941559.0</td>\n",
       "      <td>...</td>\n",
       "      <td>2000.0</td>\n",
       "      <td>795.0</td>\n",
       "      <td>439.0</td>\n",
       "      <td>4182</td>\n",
       "      <td>372</td>\n",
       "      <td>1</td>\n",
       "      <td>26413</td>\n",
       "      <td>77.0</td>\n",
       "      <td>84.0</td>\n",
       "      <td>4.8</td>\n",
       "    </tr>\n",
       "    <tr>\n",
       "      <th>1</th>\n",
       "      <td>28 Days</td>\n",
       "      <td>2000</td>\n",
       "      <td>Comedy|Drama</td>\n",
       "      <td>English</td>\n",
       "      <td>USA</td>\n",
       "      <td>PG-13</td>\n",
       "      <td>103.0</td>\n",
       "      <td>1.37</td>\n",
       "      <td>43000000.0</td>\n",
       "      <td>37035515.0</td>\n",
       "      <td>...</td>\n",
       "      <td>12000.0</td>\n",
       "      <td>10000.0</td>\n",
       "      <td>664.0</td>\n",
       "      <td>23864</td>\n",
       "      <td>0</td>\n",
       "      <td>1</td>\n",
       "      <td>34597</td>\n",
       "      <td>194.0</td>\n",
       "      <td>116.0</td>\n",
       "      <td>6.0</td>\n",
       "    </tr>\n",
       "    <tr>\n",
       "      <th>2</th>\n",
       "      <td>3 Strikes</td>\n",
       "      <td>2000</td>\n",
       "      <td>Comedy</td>\n",
       "      <td>English</td>\n",
       "      <td>USA</td>\n",
       "      <td>R</td>\n",
       "      <td>82.0</td>\n",
       "      <td>1.85</td>\n",
       "      <td>6000000.0</td>\n",
       "      <td>9821335.0</td>\n",
       "      <td>...</td>\n",
       "      <td>939.0</td>\n",
       "      <td>706.0</td>\n",
       "      <td>585.0</td>\n",
       "      <td>3354</td>\n",
       "      <td>118</td>\n",
       "      <td>1</td>\n",
       "      <td>1415</td>\n",
       "      <td>10.0</td>\n",
       "      <td>22.0</td>\n",
       "      <td>4.0</td>\n",
       "    </tr>\n",
       "    <tr>\n",
       "      <th>3</th>\n",
       "      <td>Aberdeen</td>\n",
       "      <td>2000</td>\n",
       "      <td>Drama</td>\n",
       "      <td>English</td>\n",
       "      <td>UK</td>\n",
       "      <td>NaN</td>\n",
       "      <td>106.0</td>\n",
       "      <td>1.85</td>\n",
       "      <td>6500000.0</td>\n",
       "      <td>64148.0</td>\n",
       "      <td>...</td>\n",
       "      <td>844.0</td>\n",
       "      <td>2.0</td>\n",
       "      <td>0.0</td>\n",
       "      <td>846</td>\n",
       "      <td>260</td>\n",
       "      <td>0</td>\n",
       "      <td>2601</td>\n",
       "      <td>35.0</td>\n",
       "      <td>28.0</td>\n",
       "      <td>7.3</td>\n",
       "    </tr>\n",
       "    <tr>\n",
       "      <th>4</th>\n",
       "      <td>All the Pretty Horses</td>\n",
       "      <td>2000</td>\n",
       "      <td>Drama|Romance|Western</td>\n",
       "      <td>English</td>\n",
       "      <td>USA</td>\n",
       "      <td>PG-13</td>\n",
       "      <td>220.0</td>\n",
       "      <td>2.35</td>\n",
       "      <td>57000000.0</td>\n",
       "      <td>15527125.0</td>\n",
       "      <td>...</td>\n",
       "      <td>13000.0</td>\n",
       "      <td>861.0</td>\n",
       "      <td>820.0</td>\n",
       "      <td>15006</td>\n",
       "      <td>652</td>\n",
       "      <td>2</td>\n",
       "      <td>11388</td>\n",
       "      <td>183.0</td>\n",
       "      <td>85.0</td>\n",
       "      <td>5.8</td>\n",
       "    </tr>\n",
       "    <tr>\n",
       "      <th>...</th>\n",
       "      <td>...</td>\n",
       "      <td>...</td>\n",
       "      <td>...</td>\n",
       "      <td>...</td>\n",
       "      <td>...</td>\n",
       "      <td>...</td>\n",
       "      <td>...</td>\n",
       "      <td>...</td>\n",
       "      <td>...</td>\n",
       "      <td>...</td>\n",
       "      <td>...</td>\n",
       "      <td>...</td>\n",
       "      <td>...</td>\n",
       "      <td>...</td>\n",
       "      <td>...</td>\n",
       "      <td>...</td>\n",
       "      <td>...</td>\n",
       "      <td>...</td>\n",
       "      <td>...</td>\n",
       "      <td>...</td>\n",
       "      <td>...</td>\n",
       "    </tr>\n",
       "    <tr>\n",
       "      <th>2095</th>\n",
       "      <td>X-Men Origins: Wolverine</td>\n",
       "      <td>2009</td>\n",
       "      <td>Action|Adventure|Fantasy|Sci-Fi|Thriller</td>\n",
       "      <td>English</td>\n",
       "      <td>USA</td>\n",
       "      <td>PG-13</td>\n",
       "      <td>119.0</td>\n",
       "      <td>2.35</td>\n",
       "      <td>150000000.0</td>\n",
       "      <td>179883016.0</td>\n",
       "      <td>...</td>\n",
       "      <td>20000.0</td>\n",
       "      <td>16000.0</td>\n",
       "      <td>2000.0</td>\n",
       "      <td>40054</td>\n",
       "      <td>0</td>\n",
       "      <td>0</td>\n",
       "      <td>361924</td>\n",
       "      <td>641.0</td>\n",
       "      <td>350.0</td>\n",
       "      <td>6.7</td>\n",
       "    </tr>\n",
       "    <tr>\n",
       "      <th>2096</th>\n",
       "      <td>Year One</td>\n",
       "      <td>2009</td>\n",
       "      <td>Adventure|Comedy</td>\n",
       "      <td>English</td>\n",
       "      <td>USA</td>\n",
       "      <td>PG-13</td>\n",
       "      <td>100.0</td>\n",
       "      <td>1.85</td>\n",
       "      <td>60000000.0</td>\n",
       "      <td>43337279.0</td>\n",
       "      <td>...</td>\n",
       "      <td>10000.0</td>\n",
       "      <td>1000.0</td>\n",
       "      <td>485.0</td>\n",
       "      <td>12258</td>\n",
       "      <td>0</td>\n",
       "      <td>2</td>\n",
       "      <td>76770</td>\n",
       "      <td>203.0</td>\n",
       "      <td>170.0</td>\n",
       "      <td>4.9</td>\n",
       "    </tr>\n",
       "    <tr>\n",
       "      <th>2097</th>\n",
       "      <td>Youth in Revolt</td>\n",
       "      <td>2009</td>\n",
       "      <td>Comedy|Drama|Romance</td>\n",
       "      <td>English</td>\n",
       "      <td>USA</td>\n",
       "      <td>R</td>\n",
       "      <td>90.0</td>\n",
       "      <td>1.85</td>\n",
       "      <td>18000000.0</td>\n",
       "      <td>15281286.0</td>\n",
       "      <td>...</td>\n",
       "      <td>12000.0</td>\n",
       "      <td>904.0</td>\n",
       "      <td>729.0</td>\n",
       "      <td>16004</td>\n",
       "      <td>0</td>\n",
       "      <td>2</td>\n",
       "      <td>64646</td>\n",
       "      <td>105.0</td>\n",
       "      <td>192.0</td>\n",
       "      <td>6.5</td>\n",
       "    </tr>\n",
       "    <tr>\n",
       "      <th>2098</th>\n",
       "      <td>ZMD: Zombies of Mass Destruction</td>\n",
       "      <td>2009</td>\n",
       "      <td>Comedy|Horror|Sci-Fi</td>\n",
       "      <td>English</td>\n",
       "      <td>USA</td>\n",
       "      <td>R</td>\n",
       "      <td>89.0</td>\n",
       "      <td>1.85</td>\n",
       "      <td>500000.0</td>\n",
       "      <td>NaN</td>\n",
       "      <td>...</td>\n",
       "      <td>199.0</td>\n",
       "      <td>37.0</td>\n",
       "      <td>23.0</td>\n",
       "      <td>292</td>\n",
       "      <td>0</td>\n",
       "      <td>0</td>\n",
       "      <td>3650</td>\n",
       "      <td>39.0</td>\n",
       "      <td>64.0</td>\n",
       "      <td>5.1</td>\n",
       "    </tr>\n",
       "    <tr>\n",
       "      <th>2099</th>\n",
       "      <td>Zombieland</td>\n",
       "      <td>2009</td>\n",
       "      <td>Adventure|Comedy|Horror|Sci-Fi</td>\n",
       "      <td>English</td>\n",
       "      <td>USA</td>\n",
       "      <td>R</td>\n",
       "      <td>88.0</td>\n",
       "      <td>2.35</td>\n",
       "      <td>23600000.0</td>\n",
       "      <td>75590286.0</td>\n",
       "      <td>...</td>\n",
       "      <td>15000.0</td>\n",
       "      <td>13000.0</td>\n",
       "      <td>11.0</td>\n",
       "      <td>28011</td>\n",
       "      <td>26000</td>\n",
       "      <td>4</td>\n",
       "      <td>386217</td>\n",
       "      <td>553.0</td>\n",
       "      <td>445.0</td>\n",
       "      <td>7.7</td>\n",
       "    </tr>\n",
       "  </tbody>\n",
       "</table>\n",
       "<p>2100 rows × 25 columns</p>\n",
       "</div>"
      ],
      "text/plain": [
       "                                  Title  Year  \\\n",
       "0                       102 Dalmatians   2000   \n",
       "1                              28 Days   2000   \n",
       "2                            3 Strikes   2000   \n",
       "3                             Aberdeen   2000   \n",
       "4                All the Pretty Horses   2000   \n",
       "...                                 ...   ...   \n",
       "2095          X-Men Origins: Wolverine   2009   \n",
       "2096                          Year One   2009   \n",
       "2097                   Youth in Revolt   2009   \n",
       "2098  ZMD: Zombies of Mass Destruction   2009   \n",
       "2099                        Zombieland   2009   \n",
       "\n",
       "                                        Genres Language Country  \\\n",
       "0                      Adventure|Comedy|Family  English     USA   \n",
       "1                                 Comedy|Drama  English     USA   \n",
       "2                                       Comedy  English     USA   \n",
       "3                                        Drama  English      UK   \n",
       "4                        Drama|Romance|Western  English     USA   \n",
       "...                                        ...      ...     ...   \n",
       "2095  Action|Adventure|Fantasy|Sci-Fi|Thriller  English     USA   \n",
       "2096                          Adventure|Comedy  English     USA   \n",
       "2097                      Comedy|Drama|Romance  English     USA   \n",
       "2098                      Comedy|Horror|Sci-Fi  English     USA   \n",
       "2099            Adventure|Comedy|Horror|Sci-Fi  English     USA   \n",
       "\n",
       "     Content Rating  Duration  Aspect Ratio       Budget  Gross Earnings  ...  \\\n",
       "0                 G     100.0          1.85   85000000.0      66941559.0  ...   \n",
       "1             PG-13     103.0          1.37   43000000.0      37035515.0  ...   \n",
       "2                 R      82.0          1.85    6000000.0       9821335.0  ...   \n",
       "3               NaN     106.0          1.85    6500000.0         64148.0  ...   \n",
       "4             PG-13     220.0          2.35   57000000.0      15527125.0  ...   \n",
       "...             ...       ...           ...          ...             ...  ...   \n",
       "2095          PG-13     119.0          2.35  150000000.0     179883016.0  ...   \n",
       "2096          PG-13     100.0          1.85   60000000.0      43337279.0  ...   \n",
       "2097              R      90.0          1.85   18000000.0      15281286.0  ...   \n",
       "2098              R      89.0          1.85     500000.0             NaN  ...   \n",
       "2099              R      88.0          2.35   23600000.0      75590286.0  ...   \n",
       "\n",
       "     Facebook Likes - Actor 1 Facebook Likes - Actor 2  \\\n",
       "0                      2000.0                    795.0   \n",
       "1                     12000.0                  10000.0   \n",
       "2                       939.0                    706.0   \n",
       "3                       844.0                      2.0   \n",
       "4                     13000.0                    861.0   \n",
       "...                       ...                      ...   \n",
       "2095                  20000.0                  16000.0   \n",
       "2096                  10000.0                   1000.0   \n",
       "2097                  12000.0                    904.0   \n",
       "2098                    199.0                     37.0   \n",
       "2099                  15000.0                  13000.0   \n",
       "\n",
       "     Facebook Likes - Actor 3 Facebook Likes - cast Total  \\\n",
       "0                       439.0                        4182   \n",
       "1                       664.0                       23864   \n",
       "2                       585.0                        3354   \n",
       "3                         0.0                         846   \n",
       "4                       820.0                       15006   \n",
       "...                       ...                         ...   \n",
       "2095                   2000.0                       40054   \n",
       "2096                    485.0                       12258   \n",
       "2097                    729.0                       16004   \n",
       "2098                     23.0                         292   \n",
       "2099                     11.0                       28011   \n",
       "\n",
       "      Facebook likes - Movie  Facenumber in posters  User Votes  \\\n",
       "0                        372                      1       26413   \n",
       "1                          0                      1       34597   \n",
       "2                        118                      1        1415   \n",
       "3                        260                      0        2601   \n",
       "4                        652                      2       11388   \n",
       "...                      ...                    ...         ...   \n",
       "2095                       0                      0      361924   \n",
       "2096                       0                      2       76770   \n",
       "2097                       0                      2       64646   \n",
       "2098                       0                      0        3650   \n",
       "2099                   26000                      4      386217   \n",
       "\n",
       "      Reviews by Users  Reviews by Crtiics  IMDB Score  \n",
       "0                 77.0                84.0         4.8  \n",
       "1                194.0               116.0         6.0  \n",
       "2                 10.0                22.0         4.0  \n",
       "3                 35.0                28.0         7.3  \n",
       "4                183.0                85.0         5.8  \n",
       "...                ...                 ...         ...  \n",
       "2095             641.0               350.0         6.7  \n",
       "2096             203.0               170.0         4.9  \n",
       "2097             105.0               192.0         6.5  \n",
       "2098              39.0                64.0         5.1  \n",
       "2099             553.0               445.0         7.7  \n",
       "\n",
       "[2100 rows x 25 columns]"
      ]
     },
     "execution_count": 4,
     "metadata": {},
     "output_type": "execute_result"
    }
   ],
   "source": [
    "# In this cell check result of variable selected_sheet_only\n",
    "selected_sheet_only"
   ]
  },
  {
   "cell_type": "code",
   "execution_count": 15,
   "metadata": {
    "slideshow": {
     "slide_type": "subslide"
    }
   },
   "outputs": [
    {
     "data": {
      "text/plain": "                                  Title  Year   \n0                       102 Dalmatians   2000  \\\n1                              28 Days   2000   \n2                            3 Strikes   2000   \n3                             Aberdeen   2000   \n4                All the Pretty Horses   2000   \n...                                 ...   ...   \n2095          X-Men Origins: Wolverine   2009   \n2096                          Year One   2009   \n2097                   Youth in Revolt   2009   \n2098  ZMD: Zombies of Mass Destruction   2009   \n2099                        Zombieland   2009   \n\n                                        Genres Language Country   \n0                      Adventure|Comedy|Family  English     USA  \\\n1                                 Comedy|Drama  English     USA   \n2                                       Comedy  English     USA   \n3                                        Drama  English      UK   \n4                        Drama|Romance|Western  English     USA   \n...                                        ...      ...     ...   \n2095  Action|Adventure|Fantasy|Sci-Fi|Thriller  English     USA   \n2096                          Adventure|Comedy  English     USA   \n2097                      Comedy|Drama|Romance  English     USA   \n2098                      Comedy|Horror|Sci-Fi  English     USA   \n2099            Adventure|Comedy|Horror|Sci-Fi  English     USA   \n\n     Content Rating  Duration  Aspect Ratio       Budget  Gross Earnings  ...   \n0                 G     100.0          1.85   85000000.0      66941559.0  ...  \\\n1             PG-13     103.0          1.37   43000000.0      37035515.0  ...   \n2                 R      82.0          1.85    6000000.0       9821335.0  ...   \n3               NaN     106.0          1.85    6500000.0         64148.0  ...   \n4             PG-13     220.0          2.35   57000000.0      15527125.0  ...   \n...             ...       ...           ...          ...             ...  ...   \n2095          PG-13     119.0          2.35  150000000.0     179883016.0  ...   \n2096          PG-13     100.0          1.85   60000000.0      43337279.0  ...   \n2097              R      90.0          1.85   18000000.0      15281286.0  ...   \n2098              R      89.0          1.85     500000.0             NaN  ...   \n2099              R      88.0          2.35   23600000.0      75590286.0  ...   \n\n     Facebook Likes - Actor 1 Facebook Likes - Actor 2   \n0                      2000.0                    795.0  \\\n1                     12000.0                  10000.0   \n2                       939.0                    706.0   \n3                       844.0                      2.0   \n4                     13000.0                    861.0   \n...                       ...                      ...   \n2095                  20000.0                  16000.0   \n2096                  10000.0                   1000.0   \n2097                  12000.0                    904.0   \n2098                    199.0                     37.0   \n2099                  15000.0                  13000.0   \n\n     Facebook Likes - Actor 3 Facebook Likes - cast Total   \n0                       439.0                        4182  \\\n1                       664.0                       23864   \n2                       585.0                        3354   \n3                         0.0                         846   \n4                       820.0                       15006   \n...                       ...                         ...   \n2095                   2000.0                       40054   \n2096                    485.0                       12258   \n2097                    729.0                       16004   \n2098                     23.0                         292   \n2099                     11.0                       28011   \n\n      Facebook likes - Movie  Facenumber in posters  User Votes   \n0                        372                      1       26413  \\\n1                          0                      1       34597   \n2                        118                      1        1415   \n3                        260                      0        2601   \n4                        652                      2       11388   \n...                      ...                    ...         ...   \n2095                       0                      0      361924   \n2096                       0                      2       76770   \n2097                       0                      2       64646   \n2098                       0                      0        3650   \n2099                   26000                      4      386217   \n\n      Reviews by Users  Reviews by Crtiics  IMDB Score  \n0                 77.0                84.0         4.8  \n1                194.0               116.0         6.0  \n2                 10.0                22.0         4.0  \n3                 35.0                28.0         7.3  \n4                183.0                85.0         5.8  \n...                ...                 ...         ...  \n2095             641.0               350.0         6.7  \n2096             203.0               170.0         4.9  \n2097             105.0               192.0         6.5  \n2098              39.0                64.0         5.1  \n2099             553.0               445.0         7.7  \n\n[2100 rows x 25 columns]",
      "text/html": "<div>\n<style scoped>\n    .dataframe tbody tr th:only-of-type {\n        vertical-align: middle;\n    }\n\n    .dataframe tbody tr th {\n        vertical-align: top;\n    }\n\n    .dataframe thead th {\n        text-align: right;\n    }\n</style>\n<table border=\"1\" class=\"dataframe\">\n  <thead>\n    <tr style=\"text-align: right;\">\n      <th></th>\n      <th>Title</th>\n      <th>Year</th>\n      <th>Genres</th>\n      <th>Language</th>\n      <th>Country</th>\n      <th>Content Rating</th>\n      <th>Duration</th>\n      <th>Aspect Ratio</th>\n      <th>Budget</th>\n      <th>Gross Earnings</th>\n      <th>...</th>\n      <th>Facebook Likes - Actor 1</th>\n      <th>Facebook Likes - Actor 2</th>\n      <th>Facebook Likes - Actor 3</th>\n      <th>Facebook Likes - cast Total</th>\n      <th>Facebook likes - Movie</th>\n      <th>Facenumber in posters</th>\n      <th>User Votes</th>\n      <th>Reviews by Users</th>\n      <th>Reviews by Crtiics</th>\n      <th>IMDB Score</th>\n    </tr>\n  </thead>\n  <tbody>\n    <tr>\n      <th>0</th>\n      <td>102 Dalmatians</td>\n      <td>2000</td>\n      <td>Adventure|Comedy|Family</td>\n      <td>English</td>\n      <td>USA</td>\n      <td>G</td>\n      <td>100.0</td>\n      <td>1.85</td>\n      <td>85000000.0</td>\n      <td>66941559.0</td>\n      <td>...</td>\n      <td>2000.0</td>\n      <td>795.0</td>\n      <td>439.0</td>\n      <td>4182</td>\n      <td>372</td>\n      <td>1</td>\n      <td>26413</td>\n      <td>77.0</td>\n      <td>84.0</td>\n      <td>4.8</td>\n    </tr>\n    <tr>\n      <th>1</th>\n      <td>28 Days</td>\n      <td>2000</td>\n      <td>Comedy|Drama</td>\n      <td>English</td>\n      <td>USA</td>\n      <td>PG-13</td>\n      <td>103.0</td>\n      <td>1.37</td>\n      <td>43000000.0</td>\n      <td>37035515.0</td>\n      <td>...</td>\n      <td>12000.0</td>\n      <td>10000.0</td>\n      <td>664.0</td>\n      <td>23864</td>\n      <td>0</td>\n      <td>1</td>\n      <td>34597</td>\n      <td>194.0</td>\n      <td>116.0</td>\n      <td>6.0</td>\n    </tr>\n    <tr>\n      <th>2</th>\n      <td>3 Strikes</td>\n      <td>2000</td>\n      <td>Comedy</td>\n      <td>English</td>\n      <td>USA</td>\n      <td>R</td>\n      <td>82.0</td>\n      <td>1.85</td>\n      <td>6000000.0</td>\n      <td>9821335.0</td>\n      <td>...</td>\n      <td>939.0</td>\n      <td>706.0</td>\n      <td>585.0</td>\n      <td>3354</td>\n      <td>118</td>\n      <td>1</td>\n      <td>1415</td>\n      <td>10.0</td>\n      <td>22.0</td>\n      <td>4.0</td>\n    </tr>\n    <tr>\n      <th>3</th>\n      <td>Aberdeen</td>\n      <td>2000</td>\n      <td>Drama</td>\n      <td>English</td>\n      <td>UK</td>\n      <td>NaN</td>\n      <td>106.0</td>\n      <td>1.85</td>\n      <td>6500000.0</td>\n      <td>64148.0</td>\n      <td>...</td>\n      <td>844.0</td>\n      <td>2.0</td>\n      <td>0.0</td>\n      <td>846</td>\n      <td>260</td>\n      <td>0</td>\n      <td>2601</td>\n      <td>35.0</td>\n      <td>28.0</td>\n      <td>7.3</td>\n    </tr>\n    <tr>\n      <th>4</th>\n      <td>All the Pretty Horses</td>\n      <td>2000</td>\n      <td>Drama|Romance|Western</td>\n      <td>English</td>\n      <td>USA</td>\n      <td>PG-13</td>\n      <td>220.0</td>\n      <td>2.35</td>\n      <td>57000000.0</td>\n      <td>15527125.0</td>\n      <td>...</td>\n      <td>13000.0</td>\n      <td>861.0</td>\n      <td>820.0</td>\n      <td>15006</td>\n      <td>652</td>\n      <td>2</td>\n      <td>11388</td>\n      <td>183.0</td>\n      <td>85.0</td>\n      <td>5.8</td>\n    </tr>\n    <tr>\n      <th>...</th>\n      <td>...</td>\n      <td>...</td>\n      <td>...</td>\n      <td>...</td>\n      <td>...</td>\n      <td>...</td>\n      <td>...</td>\n      <td>...</td>\n      <td>...</td>\n      <td>...</td>\n      <td>...</td>\n      <td>...</td>\n      <td>...</td>\n      <td>...</td>\n      <td>...</td>\n      <td>...</td>\n      <td>...</td>\n      <td>...</td>\n      <td>...</td>\n      <td>...</td>\n      <td>...</td>\n    </tr>\n    <tr>\n      <th>2095</th>\n      <td>X-Men Origins: Wolverine</td>\n      <td>2009</td>\n      <td>Action|Adventure|Fantasy|Sci-Fi|Thriller</td>\n      <td>English</td>\n      <td>USA</td>\n      <td>PG-13</td>\n      <td>119.0</td>\n      <td>2.35</td>\n      <td>150000000.0</td>\n      <td>179883016.0</td>\n      <td>...</td>\n      <td>20000.0</td>\n      <td>16000.0</td>\n      <td>2000.0</td>\n      <td>40054</td>\n      <td>0</td>\n      <td>0</td>\n      <td>361924</td>\n      <td>641.0</td>\n      <td>350.0</td>\n      <td>6.7</td>\n    </tr>\n    <tr>\n      <th>2096</th>\n      <td>Year One</td>\n      <td>2009</td>\n      <td>Adventure|Comedy</td>\n      <td>English</td>\n      <td>USA</td>\n      <td>PG-13</td>\n      <td>100.0</td>\n      <td>1.85</td>\n      <td>60000000.0</td>\n      <td>43337279.0</td>\n      <td>...</td>\n      <td>10000.0</td>\n      <td>1000.0</td>\n      <td>485.0</td>\n      <td>12258</td>\n      <td>0</td>\n      <td>2</td>\n      <td>76770</td>\n      <td>203.0</td>\n      <td>170.0</td>\n      <td>4.9</td>\n    </tr>\n    <tr>\n      <th>2097</th>\n      <td>Youth in Revolt</td>\n      <td>2009</td>\n      <td>Comedy|Drama|Romance</td>\n      <td>English</td>\n      <td>USA</td>\n      <td>R</td>\n      <td>90.0</td>\n      <td>1.85</td>\n      <td>18000000.0</td>\n      <td>15281286.0</td>\n      <td>...</td>\n      <td>12000.0</td>\n      <td>904.0</td>\n      <td>729.0</td>\n      <td>16004</td>\n      <td>0</td>\n      <td>2</td>\n      <td>64646</td>\n      <td>105.0</td>\n      <td>192.0</td>\n      <td>6.5</td>\n    </tr>\n    <tr>\n      <th>2098</th>\n      <td>ZMD: Zombies of Mass Destruction</td>\n      <td>2009</td>\n      <td>Comedy|Horror|Sci-Fi</td>\n      <td>English</td>\n      <td>USA</td>\n      <td>R</td>\n      <td>89.0</td>\n      <td>1.85</td>\n      <td>500000.0</td>\n      <td>NaN</td>\n      <td>...</td>\n      <td>199.0</td>\n      <td>37.0</td>\n      <td>23.0</td>\n      <td>292</td>\n      <td>0</td>\n      <td>0</td>\n      <td>3650</td>\n      <td>39.0</td>\n      <td>64.0</td>\n      <td>5.1</td>\n    </tr>\n    <tr>\n      <th>2099</th>\n      <td>Zombieland</td>\n      <td>2009</td>\n      <td>Adventure|Comedy|Horror|Sci-Fi</td>\n      <td>English</td>\n      <td>USA</td>\n      <td>R</td>\n      <td>88.0</td>\n      <td>2.35</td>\n      <td>23600000.0</td>\n      <td>75590286.0</td>\n      <td>...</td>\n      <td>15000.0</td>\n      <td>13000.0</td>\n      <td>11.0</td>\n      <td>28011</td>\n      <td>26000</td>\n      <td>4</td>\n      <td>386217</td>\n      <td>553.0</td>\n      <td>445.0</td>\n      <td>7.7</td>\n    </tr>\n  </tbody>\n</table>\n<p>2100 rows × 25 columns</p>\n</div>"
     },
     "execution_count": 15,
     "metadata": {},
     "output_type": "execute_result"
    }
   ],
   "source": [
    "# In this cell check result of variable selected_sheet_only_w_index\n",
    "selected_sheet_only_w_index"
   ]
  },
  {
   "cell_type": "code",
   "execution_count": 6,
   "metadata": {
    "slideshow": {
     "slide_type": "subslide"
    }
   },
   "outputs": [
    {
     "data": {
      "text/plain": [
       "{'1900s':                                                   Title  Year  \\\n",
       " 0     Intolerance: Love's Struggle Throughout the Ages   1916   \n",
       " 1                       Over the Hill to the Poorhouse   1920   \n",
       " 2                                       The Big Parade   1925   \n",
       " 3                                           Metropolis   1927   \n",
       " 4                                        Pandora's Box   1929   \n",
       " ...                                                 ...   ...   \n",
       " 1333                                  Twin Falls Idaho   1999   \n",
       " 1334                     Universal Soldier: The Return   1999   \n",
       " 1335                                     Varsity Blues   1999   \n",
       " 1336                                    Wild Wild West   1999   \n",
       " 1337                                    Wing Commander   1999   \n",
       " \n",
       "                             Genres Language  Country Content Rating  Duration  \\\n",
       " 0                Drama|History|War      NaN      USA      Not Rated       123   \n",
       " 1                      Crime|Drama      NaN      USA            NaN       110   \n",
       " 2                Drama|Romance|War      NaN      USA      Not Rated       151   \n",
       " 3                     Drama|Sci-Fi   German  Germany      Not Rated       145   \n",
       " 4              Crime|Drama|Romance   German  Germany      Not Rated       110   \n",
       " ...                            ...      ...      ...            ...       ...   \n",
       " 1333                         Drama  English      USA              R       111   \n",
       " 1334                 Action|Sci-Fi  English      USA              R        83   \n",
       " 1335    Comedy|Drama|Romance|Sport  English      USA              R       106   \n",
       " 1336  Action|Comedy|Sci-Fi|Western  English      USA          PG-13       106   \n",
       " 1337       Action|Adventure|Sci-Fi  English      USA          PG-13       100   \n",
       " \n",
       "       Aspect Ratio       Budget  Gross Earnings  ... Facebook Likes - Actor 1  \\\n",
       " 0             1.33     385907.0             NaN  ...                      436   \n",
       " 1             1.33     100000.0       3000000.0  ...                        2   \n",
       " 2             1.33     245000.0             NaN  ...                       81   \n",
       " 3             1.33    6000000.0         26435.0  ...                      136   \n",
       " 4             1.33          NaN          9950.0  ...                      426   \n",
       " ...            ...          ...             ...  ...                      ...   \n",
       " 1333          1.85     500000.0        985341.0  ...                      980   \n",
       " 1334          1.85   24000000.0      10431220.0  ...                     2000   \n",
       " 1335          1.85   16000000.0      52885587.0  ...                    23000   \n",
       " 1336          1.85  170000000.0     113745408.0  ...                    10000   \n",
       " 1337          2.35   30000000.0      11576087.0  ...                      811   \n",
       " \n",
       "      Facebook Likes - Actor 2 Facebook Likes - Actor 3  \\\n",
       " 0                          22                      9.0   \n",
       " 1                           2                      0.0   \n",
       " 2                          12                      6.0   \n",
       " 3                          23                     18.0   \n",
       " 4                          20                      3.0   \n",
       " ...                       ...                      ...   \n",
       " 1333                      505                    482.0   \n",
       " 1334                      577                    485.0   \n",
       " 1335                      255                     35.0   \n",
       " 1336                     4000                    582.0   \n",
       " 1337                      586                    362.0   \n",
       " \n",
       "      Facebook Likes - cast Total  Facebook likes - Movie  \\\n",
       " 0                            481                     691   \n",
       " 1                              4                       0   \n",
       " 2                            108                     226   \n",
       " 3                            203                   12000   \n",
       " 4                            455                     926   \n",
       " ...                          ...                     ...   \n",
       " 1333                        3166                     180   \n",
       " 1334                        4024                     401   \n",
       " 1335                       23369                       0   \n",
       " 1336                       15870                       0   \n",
       " 1337                        2497                     858   \n",
       " \n",
       "       Facenumber in posters  User Votes  Reviews by Users  Reviews by Crtiics  \\\n",
       " 0                         1       10718                88                69.0   \n",
       " 1                         1           5                 1                 1.0   \n",
       " 2                         0        4849                45                48.0   \n",
       " 3                         1      111841               413               260.0   \n",
       " 4                         1        7431                84                71.0   \n",
       " ...                     ...         ...               ...                 ...   \n",
       " 1333                      0        3479                87                54.0   \n",
       " 1334                      0       24216               162                75.0   \n",
       " 1335                      0       35312               267                67.0   \n",
       " 1336                      2      129601               648                85.0   \n",
       " 1337                      3       14747               338                85.0   \n",
       " \n",
       "       IMDB Score  \n",
       " 0            8.0  \n",
       " 1            4.8  \n",
       " 2            8.3  \n",
       " 3            8.3  \n",
       " 4            8.0  \n",
       " ...          ...  \n",
       " 1333         7.3  \n",
       " 1334         4.1  \n",
       " 1335         6.4  \n",
       " 1336         4.8  \n",
       " 1337         4.1  \n",
       " \n",
       " [1338 rows x 25 columns],\n",
       " '2000s':                                   Title  Year  \\\n",
       " 0                       102 Dalmatians   2000   \n",
       " 1                              28 Days   2000   \n",
       " 2                            3 Strikes   2000   \n",
       " 3                             Aberdeen   2000   \n",
       " 4                All the Pretty Horses   2000   \n",
       " ...                                 ...   ...   \n",
       " 2095          X-Men Origins: Wolverine   2009   \n",
       " 2096                          Year One   2009   \n",
       " 2097                   Youth in Revolt   2009   \n",
       " 2098  ZMD: Zombies of Mass Destruction   2009   \n",
       " 2099                        Zombieland   2009   \n",
       " \n",
       "                                         Genres Language Country  \\\n",
       " 0                      Adventure|Comedy|Family  English     USA   \n",
       " 1                                 Comedy|Drama  English     USA   \n",
       " 2                                       Comedy  English     USA   \n",
       " 3                                        Drama  English      UK   \n",
       " 4                        Drama|Romance|Western  English     USA   \n",
       " ...                                        ...      ...     ...   \n",
       " 2095  Action|Adventure|Fantasy|Sci-Fi|Thriller  English     USA   \n",
       " 2096                          Adventure|Comedy  English     USA   \n",
       " 2097                      Comedy|Drama|Romance  English     USA   \n",
       " 2098                      Comedy|Horror|Sci-Fi  English     USA   \n",
       " 2099            Adventure|Comedy|Horror|Sci-Fi  English     USA   \n",
       " \n",
       "      Content Rating  Duration  Aspect Ratio       Budget  Gross Earnings  ...  \\\n",
       " 0                 G     100.0          1.85   85000000.0      66941559.0  ...   \n",
       " 1             PG-13     103.0          1.37   43000000.0      37035515.0  ...   \n",
       " 2                 R      82.0          1.85    6000000.0       9821335.0  ...   \n",
       " 3               NaN     106.0          1.85    6500000.0         64148.0  ...   \n",
       " 4             PG-13     220.0          2.35   57000000.0      15527125.0  ...   \n",
       " ...             ...       ...           ...          ...             ...  ...   \n",
       " 2095          PG-13     119.0          2.35  150000000.0     179883016.0  ...   \n",
       " 2096          PG-13     100.0          1.85   60000000.0      43337279.0  ...   \n",
       " 2097              R      90.0          1.85   18000000.0      15281286.0  ...   \n",
       " 2098              R      89.0          1.85     500000.0             NaN  ...   \n",
       " 2099              R      88.0          2.35   23600000.0      75590286.0  ...   \n",
       " \n",
       "      Facebook Likes - Actor 1 Facebook Likes - Actor 2  \\\n",
       " 0                      2000.0                    795.0   \n",
       " 1                     12000.0                  10000.0   \n",
       " 2                       939.0                    706.0   \n",
       " 3                       844.0                      2.0   \n",
       " 4                     13000.0                    861.0   \n",
       " ...                       ...                      ...   \n",
       " 2095                  20000.0                  16000.0   \n",
       " 2096                  10000.0                   1000.0   \n",
       " 2097                  12000.0                    904.0   \n",
       " 2098                    199.0                     37.0   \n",
       " 2099                  15000.0                  13000.0   \n",
       " \n",
       "      Facebook Likes - Actor 3 Facebook Likes - cast Total  \\\n",
       " 0                       439.0                        4182   \n",
       " 1                       664.0                       23864   \n",
       " 2                       585.0                        3354   \n",
       " 3                         0.0                         846   \n",
       " 4                       820.0                       15006   \n",
       " ...                       ...                         ...   \n",
       " 2095                   2000.0                       40054   \n",
       " 2096                    485.0                       12258   \n",
       " 2097                    729.0                       16004   \n",
       " 2098                     23.0                         292   \n",
       " 2099                     11.0                       28011   \n",
       " \n",
       "       Facebook likes - Movie  Facenumber in posters  User Votes  \\\n",
       " 0                        372                      1       26413   \n",
       " 1                          0                      1       34597   \n",
       " 2                        118                      1        1415   \n",
       " 3                        260                      0        2601   \n",
       " 4                        652                      2       11388   \n",
       " ...                      ...                    ...         ...   \n",
       " 2095                       0                      0      361924   \n",
       " 2096                       0                      2       76770   \n",
       " 2097                       0                      2       64646   \n",
       " 2098                       0                      0        3650   \n",
       " 2099                   26000                      4      386217   \n",
       " \n",
       "       Reviews by Users  Reviews by Crtiics  IMDB Score  \n",
       " 0                 77.0                84.0         4.8  \n",
       " 1                194.0               116.0         6.0  \n",
       " 2                 10.0                22.0         4.0  \n",
       " 3                 35.0                28.0         7.3  \n",
       " 4                183.0                85.0         5.8  \n",
       " ...                ...                 ...         ...  \n",
       " 2095             641.0               350.0         6.7  \n",
       " 2096             203.0               170.0         4.9  \n",
       " 2097             105.0               192.0         6.5  \n",
       " 2098              39.0                64.0         5.1  \n",
       " 2099             553.0               445.0         7.7  \n",
       " \n",
       " [2100 rows x 25 columns],\n",
       " '2010s':                                      Title    Year  \\\n",
       " 0                               127 Hours   2010.0   \n",
       " 1                             3 Backyards   2010.0   \n",
       " 2                                       3   2010.0   \n",
       " 3               8: The Mormon Proposition   2010.0   \n",
       " 4     A Turtle's Tale: Sammy's Adventures   2010.0   \n",
       " ...                                    ...     ...   \n",
       " 1599              War & Peace                  NaN   \n",
       " 1600                    Wings                  NaN   \n",
       " 1601               Wolf Creek                  NaN   \n",
       " 1602        Wuthering Heights                  NaN   \n",
       " 1603  Yu-Gi-Oh! Duel Monsters                  NaN   \n",
       " \n",
       "                                          Genres  Language    Country  \\\n",
       " 0            Adventure|Biography|Drama|Thriller   English        USA   \n",
       " 1                                         Drama   English        USA   \n",
       " 2                          Comedy|Drama|Romance    German    Germany   \n",
       " 3                                   Documentary   English        USA   \n",
       " 4                    Adventure|Animation|Family   English     France   \n",
       " ...                                         ...       ...        ...   \n",
       " 1599                  Drama|History|Romance|War   English         UK   \n",
       " 1600                               Comedy|Drama   English        USA   \n",
       " 1601                      Drama|Horror|Thriller   English  Australia   \n",
       " 1602                              Drama|Romance   English         UK   \n",
       " 1603  Action|Adventure|Animation|Family|Fantasy  Japanese      Japan   \n",
       " \n",
       "      Content Rating  Duration  Aspect Ratio      Budget  Gross Earnings  ...  \\\n",
       " 0                 R      94.0          1.85  18000000.0      18329466.0  ...   \n",
       " 1                 R      88.0           NaN    300000.0             NaN  ...   \n",
       " 2           Unrated     119.0          2.35         NaN         59774.0  ...   \n",
       " 3                 R      80.0          1.78   2500000.0         99851.0  ...   \n",
       " 4                PG      88.0          2.35         NaN             NaN  ...   \n",
       " ...             ...       ...           ...         ...             ...  ...   \n",
       " 1599          TV-14       NaN         16.00         NaN             NaN  ...   \n",
       " 1600            NaN      30.0          1.33         NaN             NaN  ...   \n",
       " 1601            NaN       NaN          2.00         NaN             NaN  ...   \n",
       " 1602            NaN     142.0           NaN         NaN             NaN  ...   \n",
       " 1603            NaN      24.0           NaN         NaN             NaN  ...   \n",
       " \n",
       "      Facebook Likes - Actor 1 Facebook Likes - Actor 2  \\\n",
       " 0                     11000.0                    642.0   \n",
       " 1                       795.0                    659.0   \n",
       " 2                        24.0                     20.0   \n",
       " 3                       191.0                     12.0   \n",
       " 4                       783.0                    749.0   \n",
       " ...                       ...                      ...   \n",
       " 1599                   1000.0                    888.0   \n",
       " 1600                    685.0                    511.0   \n",
       " 1601                    511.0                    457.0   \n",
       " 1602                  27000.0                    698.0   \n",
       " 1603                      0.0                      NaN   \n",
       " \n",
       "      Facebook Likes - Actor 3 Facebook Likes - cast Total  \\\n",
       " 0                       223.0                       11984   \n",
       " 1                       301.0                        1884   \n",
       " 2                         9.0                          69   \n",
       " 3                         5.0                         210   \n",
       " 4                       602.0                        3874   \n",
       " ...                       ...                         ...   \n",
       " 1599                    502.0                        4528   \n",
       " 1600                    424.0                        1884   \n",
       " 1601                    206.0                        1617   \n",
       " 1602                    427.0                       29196   \n",
       " 1603                      NaN                           0   \n",
       " \n",
       "       Facebook likes - Movie  Facenumber in posters  User Votes  \\\n",
       " 0                      63000                    0.0      279179   \n",
       " 1                         92                    0.0         554   \n",
       " 2                       2000                    0.0        4212   \n",
       " 3                          0                    0.0        1138   \n",
       " 4                          0                    2.0        5385   \n",
       " ...                      ...                    ...         ...   \n",
       " 1599                   11000                    1.0        9277   \n",
       " 1600                    1000                    5.0        7646   \n",
       " 1601                     954                    0.0         726   \n",
       " 1602                       0                    2.0        6053   \n",
       " 1603                     124                    0.0       12417   \n",
       " \n",
       "       Reviews by Users  Reviews by Crtiics  IMDB Score  \n",
       " 0                440.0               450.0         7.6  \n",
       " 1                 23.0                20.0         5.2  \n",
       " 2                 18.0                76.0         6.8  \n",
       " 3                 30.0                28.0         7.1  \n",
       " 4                 22.0                56.0         6.1  \n",
       " ...                ...                 ...         ...  \n",
       " 1599              44.0                10.0         8.2  \n",
       " 1600              56.0                19.0         7.3  \n",
       " 1601               6.0                 2.0         7.1  \n",
       " 1602              33.0                 9.0         7.7  \n",
       " 1603              51.0                 6.0         7.0  \n",
       " \n",
       " [1604 rows x 25 columns]}"
      ]
     },
     "execution_count": 6,
     "metadata": {},
     "output_type": "execute_result"
    }
   ],
   "source": [
    "# In this cell check result of variable all_sheets\n",
    "all_sheets"
   ]
  },
  {
   "cell_type": "markdown",
   "metadata": {
    "slideshow": {
     "slide_type": "slide"
    }
   },
   "source": [
    "# [Q1] Find out how many sheets are in the excel"
   ]
  },
  {
   "cell_type": "code",
   "execution_count": 28,
   "metadata": {
    "slideshow": {
     "slide_type": "subslide"
    }
   },
   "outputs": [
    {
     "data": {
      "text/plain": "(1338, 25)"
     },
     "execution_count": 28,
     "metadata": {},
     "output_type": "execute_result"
    }
   ],
   "source": [
    "# Test shape of all 3 variables above\n",
    "# variable all_sheets does not have a shape because its a dict.\n",
    "\n",
    "len(all_sheets)"
   ]
  },
  {
   "cell_type": "markdown",
   "metadata": {
    "slideshow": {
     "slide_type": "subslide"
    }
   },
   "source": [
    "## [Q2] How many rows in excel tab 2010s. [Hint: Try accessing one of the key-value pairs in Dictionary]"
   ]
  },
  {
   "cell_type": "code",
   "execution_count": 17,
   "metadata": {
    "slideshow": {
     "slide_type": "subslide"
    }
   },
   "outputs": [
    {
     "data": {
      "text/plain": "1604"
     },
     "execution_count": 17,
     "metadata": {},
     "output_type": "execute_result"
    }
   ],
   "source": [
    "# Please complete the rest of this cell\n",
    "len(all_sheets['2010s'])"
   ]
  },
  {
   "cell_type": "markdown",
   "metadata": {
    "slideshow": {
     "slide_type": "subslide"
    }
   },
   "source": [
    "# Adding columns to existing dataframes\n",
    "Many time we have to add new columns to the data deriving it from existing columns.\n",
    "\n"
   ]
  },
  {
   "cell_type": "markdown",
   "source": [
    "# Add budget of movies by 10 %\n",
    "\n",
    "\n",
    "## [Q3] Lets read first sheet of excel in variable movies_df"
   ],
   "metadata": {
    "collapsed": false
   }
  },
  {
   "cell_type": "code",
   "execution_count": 29,
   "metadata": {
    "slideshow": {
     "slide_type": "subslide"
    }
   },
   "outputs": [],
   "source": [
    "# Please complete the rest of this cell\n",
    "movies_df = first_sheet_only.copy()"
   ]
  },
  {
   "cell_type": "code",
   "execution_count": 31,
   "metadata": {
    "slideshow": {
     "slide_type": "subslide"
    }
   },
   "outputs": [
    {
     "data": {
      "text/plain": "(1338, 25)"
     },
     "execution_count": 31,
     "metadata": {},
     "output_type": "execute_result"
    }
   ],
   "source": [
    "# Lets increase movie budget by 10%\n",
    "def inc_by_10_pc(num):\n",
    "    return num * 1.10\n",
    "movies_df['incrsd_budget'] = movies_df['Budget'].apply(inc_by_10_pc)\n",
    "# movies_df\n",
    "movies_df[['Budget', 'incrsd_budget']]"
   ]
  },
  {
   "cell_type": "markdown",
   "metadata": {
    "slideshow": {
     "slide_type": "subslide"
    }
   },
   "source": [
    "## [Q4] Create a new cloumn with 1 point decrease in IMDB rating of movies"
   ]
  },
  {
   "cell_type": "code",
   "execution_count": 13,
   "metadata": {
    "slideshow": {
     "slide_type": "-"
    }
   },
   "outputs": [],
   "source": [
    "# Please complete the rest of this cell\n",
    "def dec_by_1_pt(num):\n",
    "    return num - 1\n",
    "\n",
    "movies_df['decreased_score'] = movies_df['IMDB Score'].apply(dec_by_1_pt)\n",
    "movies_df[['IMDB Score', 'decreased_score']]"
   ]
  },
  {
   "cell_type": "markdown",
   "metadata": {
    "slideshow": {
     "slide_type": "slide"
    }
   },
   "source": [
    "# Groupby\n",
    "\n",
    "- Group by is used to split a pandas dataframe into groups.\n",
    "- Similar to groupby in other langauage e.g SQL\n",
    "\n",
    "\n",
    "<img src=\"../data/images/groupby.png\" style=\"width:700px;\">\n"
   ]
  },
  {
   "cell_type": "code",
   "execution_count": 32,
   "metadata": {
    "slideshow": {
     "slide_type": "subslide"
    }
   },
   "outputs": [
    {
     "data": {
      "text/plain": "Year\n1916             NaN\n1920    3.000000e+06\n1925             NaN\n1927    2.643500e+04\n1929    1.408975e+06\n            ...     \n1995    4.490952e+07\n1996    4.204417e+07\n1997    4.479377e+07\n1998    3.837701e+07\n1999    3.807218e+07\nName: Gross Earnings, Length: 74, dtype: float64"
     },
     "execution_count": 32,
     "metadata": {},
     "output_type": "execute_result"
    }
   ],
   "source": [
    "\"\"\"\n",
    "The mean is the total of the numbers divided by how many numbers there are. \n",
    "To find the mean, add all the numbers together then divide by the number of numbers. \n",
    "\"\"\"\n",
    "\n",
    "# we are grouping our data by year and then calculate mean Gross Earnings for each year. \n",
    "movies_mean = movies_df.groupby('Year')['Gross Earnings'].mean()\n",
    "movies_mean"
   ]
  },
  {
   "cell_type": "markdown",
   "metadata": {
    "slideshow": {
     "slide_type": "subslide"
    }
   },
   "source": [
    "## Count number of movies by each country"
   ]
  },
  {
   "cell_type": "code",
   "execution_count": 35,
   "metadata": {},
   "outputs": [
    {
     "data": {
      "text/plain": "Country\nAruba                1\nAustralia           18\nBrazil               2\nCanada              25\nChina                1\nCzech Republic       1\nDenmark              3\nFrance              26\nGermany             12\nHong Kong            3\nIndia                1\nIran                 2\nItaly               11\nJapan                9\nLibya                1\nMexico               1\nNetherlands          3\nNew Zealand          2\nNorway               1\nPeru                 1\nSouth Korea          1\nSoviet Union         1\nSpain                4\nSweden               1\nSwitzerland          1\nUK                 130\nUSA               1073\nWest Germany         3\nName: Title, dtype: int64"
     },
     "execution_count": 35,
     "metadata": {},
     "output_type": "execute_result"
    }
   ],
   "source": [
    "# Please complete the rest of this cell\n",
    "movies_by_country_count = movies_df.groupby('Country')['Title'].count()\n",
    "movies_by_country_count"
   ]
  },
  {
   "cell_type": "markdown",
   "metadata": {
    "slideshow": {
     "slide_type": "slide"
    }
   },
   "source": [
    "# Joining 2 dataframes\n",
    "\n",
    "- Most of the time single dataframe does not posses enough information\n",
    "- Information can be enriched by joining two dataframes"
   ]
  },
  {
   "cell_type": "code",
   "execution_count": 33,
   "metadata": {},
   "outputs": [
    {
     "data": {
      "text/plain": "       index flag\n0        USA   🇺🇸\n1         UK   🇬🇧\n2     France   🇫🇷\n3     Canada   🇨🇦\n4  Australia   🇦🇺\n5    Germany   🇩🇪\n6      Italy   🇮🇹\n7      Japan   🇯🇵\n8      Spain   🇪🇸",
      "text/html": "<div>\n<style scoped>\n    .dataframe tbody tr th:only-of-type {\n        vertical-align: middle;\n    }\n\n    .dataframe tbody tr th {\n        vertical-align: top;\n    }\n\n    .dataframe thead th {\n        text-align: right;\n    }\n</style>\n<table border=\"1\" class=\"dataframe\">\n  <thead>\n    <tr style=\"text-align: right;\">\n      <th></th>\n      <th>index</th>\n      <th>flag</th>\n    </tr>\n  </thead>\n  <tbody>\n    <tr>\n      <th>0</th>\n      <td>USA</td>\n      <td>🇺🇸</td>\n    </tr>\n    <tr>\n      <th>1</th>\n      <td>UK</td>\n      <td>🇬🇧</td>\n    </tr>\n    <tr>\n      <th>2</th>\n      <td>France</td>\n      <td>🇫🇷</td>\n    </tr>\n    <tr>\n      <th>3</th>\n      <td>Canada</td>\n      <td>🇨🇦</td>\n    </tr>\n    <tr>\n      <th>4</th>\n      <td>Australia</td>\n      <td>🇦🇺</td>\n    </tr>\n    <tr>\n      <th>5</th>\n      <td>Germany</td>\n      <td>🇩🇪</td>\n    </tr>\n    <tr>\n      <th>6</th>\n      <td>Italy</td>\n      <td>🇮🇹</td>\n    </tr>\n    <tr>\n      <th>7</th>\n      <td>Japan</td>\n      <td>🇯🇵</td>\n    </tr>\n    <tr>\n      <th>8</th>\n      <td>Spain</td>\n      <td>🇪🇸</td>\n    </tr>\n  </tbody>\n</table>\n</div>"
     },
     "execution_count": 33,
     "metadata": {},
     "output_type": "execute_result"
    }
   ],
   "source": [
    "#Lets create a small dataframe with flags of countries\n",
    "emojis = dict(\n",
    "    USA =  '🇺🇸',\n",
    "    UK = '🇬🇧',\n",
    "    France = '🇫🇷',\n",
    "    Canada = '🇨🇦',        \n",
    "    Australia = '🇦🇺',       \n",
    "    Germany = '🇩🇪',  \n",
    "    Italy = '🇮🇹',  \n",
    "    Japan = '🇯🇵',     \n",
    "    Spain = '🇪🇸'    \n",
    ")\n",
    "flag_df = pd.Series(emojis, name='flag').reset_index()\n",
    "flag_df"
   ]
  },
  {
   "cell_type": "code",
   "execution_count": 47,
   "metadata": {
    "slideshow": {
     "slide_type": "slide"
    }
   },
   "outputs": [
    {
     "data": {
      "text/plain": "           Country  MoviesCount\n0            Aruba            1\n1        Australia           18\n2           Brazil            2\n3           Canada           25\n4            China            1\n5   Czech Republic            1\n6          Denmark            3\n7           France           26\n8          Germany           12\n9        Hong Kong            3\n10           India            1\n11            Iran            2\n12           Italy           11\n13           Japan            9\n14           Libya            1\n15          Mexico            1\n16     Netherlands            3\n17     New Zealand            2\n18          Norway            1\n19            Peru            1\n20     South Korea            1\n21    Soviet Union            1\n22           Spain            4\n23          Sweden            1\n24     Switzerland            1\n25              UK          130\n26             USA         1073\n27    West Germany            3",
      "text/html": "<div>\n<style scoped>\n    .dataframe tbody tr th:only-of-type {\n        vertical-align: middle;\n    }\n\n    .dataframe tbody tr th {\n        vertical-align: top;\n    }\n\n    .dataframe thead th {\n        text-align: right;\n    }\n</style>\n<table border=\"1\" class=\"dataframe\">\n  <thead>\n    <tr style=\"text-align: right;\">\n      <th></th>\n      <th>Country</th>\n      <th>MoviesCount</th>\n    </tr>\n  </thead>\n  <tbody>\n    <tr>\n      <th>0</th>\n      <td>Aruba</td>\n      <td>1</td>\n    </tr>\n    <tr>\n      <th>1</th>\n      <td>Australia</td>\n      <td>18</td>\n    </tr>\n    <tr>\n      <th>2</th>\n      <td>Brazil</td>\n      <td>2</td>\n    </tr>\n    <tr>\n      <th>3</th>\n      <td>Canada</td>\n      <td>25</td>\n    </tr>\n    <tr>\n      <th>4</th>\n      <td>China</td>\n      <td>1</td>\n    </tr>\n    <tr>\n      <th>5</th>\n      <td>Czech Republic</td>\n      <td>1</td>\n    </tr>\n    <tr>\n      <th>6</th>\n      <td>Denmark</td>\n      <td>3</td>\n    </tr>\n    <tr>\n      <th>7</th>\n      <td>France</td>\n      <td>26</td>\n    </tr>\n    <tr>\n      <th>8</th>\n      <td>Germany</td>\n      <td>12</td>\n    </tr>\n    <tr>\n      <th>9</th>\n      <td>Hong Kong</td>\n      <td>3</td>\n    </tr>\n    <tr>\n      <th>10</th>\n      <td>India</td>\n      <td>1</td>\n    </tr>\n    <tr>\n      <th>11</th>\n      <td>Iran</td>\n      <td>2</td>\n    </tr>\n    <tr>\n      <th>12</th>\n      <td>Italy</td>\n      <td>11</td>\n    </tr>\n    <tr>\n      <th>13</th>\n      <td>Japan</td>\n      <td>9</td>\n    </tr>\n    <tr>\n      <th>14</th>\n      <td>Libya</td>\n      <td>1</td>\n    </tr>\n    <tr>\n      <th>15</th>\n      <td>Mexico</td>\n      <td>1</td>\n    </tr>\n    <tr>\n      <th>16</th>\n      <td>Netherlands</td>\n      <td>3</td>\n    </tr>\n    <tr>\n      <th>17</th>\n      <td>New Zealand</td>\n      <td>2</td>\n    </tr>\n    <tr>\n      <th>18</th>\n      <td>Norway</td>\n      <td>1</td>\n    </tr>\n    <tr>\n      <th>19</th>\n      <td>Peru</td>\n      <td>1</td>\n    </tr>\n    <tr>\n      <th>20</th>\n      <td>South Korea</td>\n      <td>1</td>\n    </tr>\n    <tr>\n      <th>21</th>\n      <td>Soviet Union</td>\n      <td>1</td>\n    </tr>\n    <tr>\n      <th>22</th>\n      <td>Spain</td>\n      <td>4</td>\n    </tr>\n    <tr>\n      <th>23</th>\n      <td>Sweden</td>\n      <td>1</td>\n    </tr>\n    <tr>\n      <th>24</th>\n      <td>Switzerland</td>\n      <td>1</td>\n    </tr>\n    <tr>\n      <th>25</th>\n      <td>UK</td>\n      <td>130</td>\n    </tr>\n    <tr>\n      <th>26</th>\n      <td>USA</td>\n      <td>1073</td>\n    </tr>\n    <tr>\n      <th>27</th>\n      <td>West Germany</td>\n      <td>3</td>\n    </tr>\n  </tbody>\n</table>\n</div>"
     },
     "execution_count": 47,
     "metadata": {},
     "output_type": "execute_result"
    }
   ],
   "source": [
    "# movies_by_country_df = movies_by_country_count.to_frame().rename(columns={\"Title\": \"Title counts\"})\n",
    "movies_by_country_df = pd.Series(movies_by_country_count, name = \"Title counts\").reset_index()\n",
    "movies_by_country_df"
   ]
  },
  {
   "cell_type": "code",
   "execution_count": 49,
   "metadata": {
    "slideshow": {
     "slide_type": "subslide"
    }
   },
   "outputs": [
    {
     "ename": "MergeError",
     "evalue": "No common columns to perform merge on. Merge options: left_on=None, right_on=None, left_index=False, right_index=False",
     "output_type": "error",
     "traceback": [
      "\u001B[0;31m---------------------------------------------------------------------------\u001B[0m",
      "\u001B[0;31mMergeError\u001B[0m                                Traceback (most recent call last)",
      "Cell \u001B[0;32mIn[49], line 2\u001B[0m\n\u001B[1;32m      1\u001B[0m \u001B[38;5;66;03m#Now lets join it with our movies df and add flags to countries\u001B[39;00m\n\u001B[0;32m----> 2\u001B[0m \u001B[43mmovies_by_country_df\u001B[49m\u001B[38;5;241;43m.\u001B[39;49m\u001B[43mmerge\u001B[49m\u001B[43m(\u001B[49m\u001B[43mflag_df\u001B[49m\u001B[43m)\u001B[49m\n",
      "File \u001B[0;32m/Library/Frameworks/Python.framework/Versions/3.10/lib/python3.10/site-packages/pandas/core/frame.py:9848\u001B[0m, in \u001B[0;36mDataFrame.merge\u001B[0;34m(self, right, how, on, left_on, right_on, left_index, right_index, sort, suffixes, copy, indicator, validate)\u001B[0m\n\u001B[1;32m   9829\u001B[0m \u001B[38;5;129m@Substitution\u001B[39m(\u001B[38;5;124m\"\u001B[39m\u001B[38;5;124m\"\u001B[39m)\n\u001B[1;32m   9830\u001B[0m \u001B[38;5;129m@Appender\u001B[39m(_merge_doc, indents\u001B[38;5;241m=\u001B[39m\u001B[38;5;241m2\u001B[39m)\n\u001B[1;32m   9831\u001B[0m \u001B[38;5;28;01mdef\u001B[39;00m \u001B[38;5;21mmerge\u001B[39m(\n\u001B[0;32m   (...)\u001B[0m\n\u001B[1;32m   9844\u001B[0m     validate: \u001B[38;5;28mstr\u001B[39m \u001B[38;5;241m|\u001B[39m \u001B[38;5;28;01mNone\u001B[39;00m \u001B[38;5;241m=\u001B[39m \u001B[38;5;28;01mNone\u001B[39;00m,\n\u001B[1;32m   9845\u001B[0m ) \u001B[38;5;241m-\u001B[39m\u001B[38;5;241m>\u001B[39m DataFrame:\n\u001B[1;32m   9846\u001B[0m     \u001B[38;5;28;01mfrom\u001B[39;00m \u001B[38;5;21;01mpandas\u001B[39;00m\u001B[38;5;21;01m.\u001B[39;00m\u001B[38;5;21;01mcore\u001B[39;00m\u001B[38;5;21;01m.\u001B[39;00m\u001B[38;5;21;01mreshape\u001B[39;00m\u001B[38;5;21;01m.\u001B[39;00m\u001B[38;5;21;01mmerge\u001B[39;00m \u001B[38;5;28;01mimport\u001B[39;00m merge\n\u001B[0;32m-> 9848\u001B[0m     \u001B[38;5;28;01mreturn\u001B[39;00m \u001B[43mmerge\u001B[49m\u001B[43m(\u001B[49m\n\u001B[1;32m   9849\u001B[0m \u001B[43m        \u001B[49m\u001B[38;5;28;43mself\u001B[39;49m\u001B[43m,\u001B[49m\n\u001B[1;32m   9850\u001B[0m \u001B[43m        \u001B[49m\u001B[43mright\u001B[49m\u001B[43m,\u001B[49m\n\u001B[1;32m   9851\u001B[0m \u001B[43m        \u001B[49m\u001B[43mhow\u001B[49m\u001B[38;5;241;43m=\u001B[39;49m\u001B[43mhow\u001B[49m\u001B[43m,\u001B[49m\n\u001B[1;32m   9852\u001B[0m \u001B[43m        \u001B[49m\u001B[43mon\u001B[49m\u001B[38;5;241;43m=\u001B[39;49m\u001B[43mon\u001B[49m\u001B[43m,\u001B[49m\n\u001B[1;32m   9853\u001B[0m \u001B[43m        \u001B[49m\u001B[43mleft_on\u001B[49m\u001B[38;5;241;43m=\u001B[39;49m\u001B[43mleft_on\u001B[49m\u001B[43m,\u001B[49m\n\u001B[1;32m   9854\u001B[0m \u001B[43m        \u001B[49m\u001B[43mright_on\u001B[49m\u001B[38;5;241;43m=\u001B[39;49m\u001B[43mright_on\u001B[49m\u001B[43m,\u001B[49m\n\u001B[1;32m   9855\u001B[0m \u001B[43m        \u001B[49m\u001B[43mleft_index\u001B[49m\u001B[38;5;241;43m=\u001B[39;49m\u001B[43mleft_index\u001B[49m\u001B[43m,\u001B[49m\n\u001B[1;32m   9856\u001B[0m \u001B[43m        \u001B[49m\u001B[43mright_index\u001B[49m\u001B[38;5;241;43m=\u001B[39;49m\u001B[43mright_index\u001B[49m\u001B[43m,\u001B[49m\n\u001B[1;32m   9857\u001B[0m \u001B[43m        \u001B[49m\u001B[43msort\u001B[49m\u001B[38;5;241;43m=\u001B[39;49m\u001B[43msort\u001B[49m\u001B[43m,\u001B[49m\n\u001B[1;32m   9858\u001B[0m \u001B[43m        \u001B[49m\u001B[43msuffixes\u001B[49m\u001B[38;5;241;43m=\u001B[39;49m\u001B[43msuffixes\u001B[49m\u001B[43m,\u001B[49m\n\u001B[1;32m   9859\u001B[0m \u001B[43m        \u001B[49m\u001B[43mcopy\u001B[49m\u001B[38;5;241;43m=\u001B[39;49m\u001B[43mcopy\u001B[49m\u001B[43m,\u001B[49m\n\u001B[1;32m   9860\u001B[0m \u001B[43m        \u001B[49m\u001B[43mindicator\u001B[49m\u001B[38;5;241;43m=\u001B[39;49m\u001B[43mindicator\u001B[49m\u001B[43m,\u001B[49m\n\u001B[1;32m   9861\u001B[0m \u001B[43m        \u001B[49m\u001B[43mvalidate\u001B[49m\u001B[38;5;241;43m=\u001B[39;49m\u001B[43mvalidate\u001B[49m\u001B[43m,\u001B[49m\n\u001B[1;32m   9862\u001B[0m \u001B[43m    \u001B[49m\u001B[43m)\u001B[49m\n",
      "File \u001B[0;32m/Library/Frameworks/Python.framework/Versions/3.10/lib/python3.10/site-packages/pandas/core/reshape/merge.py:144\u001B[0m, in \u001B[0;36mmerge\u001B[0;34m(left, right, how, on, left_on, right_on, left_index, right_index, sort, suffixes, copy, indicator, validate)\u001B[0m\n\u001B[1;32m    127\u001B[0m \u001B[38;5;129m@Substitution\u001B[39m(\u001B[38;5;124m\"\u001B[39m\u001B[38;5;130;01m\\n\u001B[39;00m\u001B[38;5;124mleft : DataFrame or named Series\u001B[39m\u001B[38;5;124m\"\u001B[39m)\n\u001B[1;32m    128\u001B[0m \u001B[38;5;129m@Appender\u001B[39m(_merge_doc, indents\u001B[38;5;241m=\u001B[39m\u001B[38;5;241m0\u001B[39m)\n\u001B[1;32m    129\u001B[0m \u001B[38;5;28;01mdef\u001B[39;00m \u001B[38;5;21mmerge\u001B[39m(\n\u001B[0;32m   (...)\u001B[0m\n\u001B[1;32m    142\u001B[0m     validate: \u001B[38;5;28mstr\u001B[39m \u001B[38;5;241m|\u001B[39m \u001B[38;5;28;01mNone\u001B[39;00m \u001B[38;5;241m=\u001B[39m \u001B[38;5;28;01mNone\u001B[39;00m,\n\u001B[1;32m    143\u001B[0m ) \u001B[38;5;241m-\u001B[39m\u001B[38;5;241m>\u001B[39m DataFrame:\n\u001B[0;32m--> 144\u001B[0m     op \u001B[38;5;241m=\u001B[39m \u001B[43m_MergeOperation\u001B[49m\u001B[43m(\u001B[49m\n\u001B[1;32m    145\u001B[0m \u001B[43m        \u001B[49m\u001B[43mleft\u001B[49m\u001B[43m,\u001B[49m\n\u001B[1;32m    146\u001B[0m \u001B[43m        \u001B[49m\u001B[43mright\u001B[49m\u001B[43m,\u001B[49m\n\u001B[1;32m    147\u001B[0m \u001B[43m        \u001B[49m\u001B[43mhow\u001B[49m\u001B[38;5;241;43m=\u001B[39;49m\u001B[43mhow\u001B[49m\u001B[43m,\u001B[49m\n\u001B[1;32m    148\u001B[0m \u001B[43m        \u001B[49m\u001B[43mon\u001B[49m\u001B[38;5;241;43m=\u001B[39;49m\u001B[43mon\u001B[49m\u001B[43m,\u001B[49m\n\u001B[1;32m    149\u001B[0m \u001B[43m        \u001B[49m\u001B[43mleft_on\u001B[49m\u001B[38;5;241;43m=\u001B[39;49m\u001B[43mleft_on\u001B[49m\u001B[43m,\u001B[49m\n\u001B[1;32m    150\u001B[0m \u001B[43m        \u001B[49m\u001B[43mright_on\u001B[49m\u001B[38;5;241;43m=\u001B[39;49m\u001B[43mright_on\u001B[49m\u001B[43m,\u001B[49m\n\u001B[1;32m    151\u001B[0m \u001B[43m        \u001B[49m\u001B[43mleft_index\u001B[49m\u001B[38;5;241;43m=\u001B[39;49m\u001B[43mleft_index\u001B[49m\u001B[43m,\u001B[49m\n\u001B[1;32m    152\u001B[0m \u001B[43m        \u001B[49m\u001B[43mright_index\u001B[49m\u001B[38;5;241;43m=\u001B[39;49m\u001B[43mright_index\u001B[49m\u001B[43m,\u001B[49m\n\u001B[1;32m    153\u001B[0m \u001B[43m        \u001B[49m\u001B[43msort\u001B[49m\u001B[38;5;241;43m=\u001B[39;49m\u001B[43msort\u001B[49m\u001B[43m,\u001B[49m\n\u001B[1;32m    154\u001B[0m \u001B[43m        \u001B[49m\u001B[43msuffixes\u001B[49m\u001B[38;5;241;43m=\u001B[39;49m\u001B[43msuffixes\u001B[49m\u001B[43m,\u001B[49m\n\u001B[1;32m    155\u001B[0m \u001B[43m        \u001B[49m\u001B[43mindicator\u001B[49m\u001B[38;5;241;43m=\u001B[39;49m\u001B[43mindicator\u001B[49m\u001B[43m,\u001B[49m\n\u001B[1;32m    156\u001B[0m \u001B[43m        \u001B[49m\u001B[43mvalidate\u001B[49m\u001B[38;5;241;43m=\u001B[39;49m\u001B[43mvalidate\u001B[49m\u001B[43m,\u001B[49m\n\u001B[1;32m    157\u001B[0m \u001B[43m    \u001B[49m\u001B[43m)\u001B[49m\n\u001B[1;32m    158\u001B[0m     \u001B[38;5;28;01mreturn\u001B[39;00m op\u001B[38;5;241m.\u001B[39mget_result(copy\u001B[38;5;241m=\u001B[39mcopy)\n",
      "File \u001B[0;32m/Library/Frameworks/Python.framework/Versions/3.10/lib/python3.10/site-packages/pandas/core/reshape/merge.py:715\u001B[0m, in \u001B[0;36m_MergeOperation.__init__\u001B[0;34m(self, left, right, how, on, left_on, right_on, axis, left_index, right_index, sort, suffixes, indicator, validate)\u001B[0m\n\u001B[1;32m    708\u001B[0m     msg \u001B[38;5;241m=\u001B[39m (\n\u001B[1;32m    709\u001B[0m         \u001B[38;5;124m\"\u001B[39m\u001B[38;5;124mNot allowed to merge between different levels. \u001B[39m\u001B[38;5;124m\"\u001B[39m\n\u001B[1;32m    710\u001B[0m         \u001B[38;5;124mf\u001B[39m\u001B[38;5;124m\"\u001B[39m\u001B[38;5;124m(\u001B[39m\u001B[38;5;132;01m{\u001B[39;00m_left\u001B[38;5;241m.\u001B[39mcolumns\u001B[38;5;241m.\u001B[39mnlevels\u001B[38;5;132;01m}\u001B[39;00m\u001B[38;5;124m levels on the left, \u001B[39m\u001B[38;5;124m\"\u001B[39m\n\u001B[1;32m    711\u001B[0m         \u001B[38;5;124mf\u001B[39m\u001B[38;5;124m\"\u001B[39m\u001B[38;5;132;01m{\u001B[39;00m_right\u001B[38;5;241m.\u001B[39mcolumns\u001B[38;5;241m.\u001B[39mnlevels\u001B[38;5;132;01m}\u001B[39;00m\u001B[38;5;124m on the right)\u001B[39m\u001B[38;5;124m\"\u001B[39m\n\u001B[1;32m    712\u001B[0m     )\n\u001B[1;32m    713\u001B[0m     \u001B[38;5;28;01mraise\u001B[39;00m MergeError(msg)\n\u001B[0;32m--> 715\u001B[0m \u001B[38;5;28mself\u001B[39m\u001B[38;5;241m.\u001B[39mleft_on, \u001B[38;5;28mself\u001B[39m\u001B[38;5;241m.\u001B[39mright_on \u001B[38;5;241m=\u001B[39m \u001B[38;5;28;43mself\u001B[39;49m\u001B[38;5;241;43m.\u001B[39;49m\u001B[43m_validate_left_right_on\u001B[49m\u001B[43m(\u001B[49m\u001B[43mleft_on\u001B[49m\u001B[43m,\u001B[49m\u001B[43m \u001B[49m\u001B[43mright_on\u001B[49m\u001B[43m)\u001B[49m\n\u001B[1;32m    717\u001B[0m cross_col \u001B[38;5;241m=\u001B[39m \u001B[38;5;28;01mNone\u001B[39;00m\n\u001B[1;32m    718\u001B[0m \u001B[38;5;28;01mif\u001B[39;00m \u001B[38;5;28mself\u001B[39m\u001B[38;5;241m.\u001B[39mhow \u001B[38;5;241m==\u001B[39m \u001B[38;5;124m\"\u001B[39m\u001B[38;5;124mcross\u001B[39m\u001B[38;5;124m\"\u001B[39m:\n",
      "File \u001B[0;32m/Library/Frameworks/Python.framework/Versions/3.10/lib/python3.10/site-packages/pandas/core/reshape/merge.py:1482\u001B[0m, in \u001B[0;36m_MergeOperation._validate_left_right_on\u001B[0;34m(self, left_on, right_on)\u001B[0m\n\u001B[1;32m   1480\u001B[0m common_cols \u001B[38;5;241m=\u001B[39m left_cols\u001B[38;5;241m.\u001B[39mintersection(right_cols)\n\u001B[1;32m   1481\u001B[0m \u001B[38;5;28;01mif\u001B[39;00m \u001B[38;5;28mlen\u001B[39m(common_cols) \u001B[38;5;241m==\u001B[39m \u001B[38;5;241m0\u001B[39m:\n\u001B[0;32m-> 1482\u001B[0m     \u001B[38;5;28;01mraise\u001B[39;00m MergeError(\n\u001B[1;32m   1483\u001B[0m         \u001B[38;5;124m\"\u001B[39m\u001B[38;5;124mNo common columns to perform merge on. \u001B[39m\u001B[38;5;124m\"\u001B[39m\n\u001B[1;32m   1484\u001B[0m         \u001B[38;5;124mf\u001B[39m\u001B[38;5;124m\"\u001B[39m\u001B[38;5;124mMerge options: left_on=\u001B[39m\u001B[38;5;132;01m{\u001B[39;00mleft_on\u001B[38;5;132;01m}\u001B[39;00m\u001B[38;5;124m, \u001B[39m\u001B[38;5;124m\"\u001B[39m\n\u001B[1;32m   1485\u001B[0m         \u001B[38;5;124mf\u001B[39m\u001B[38;5;124m\"\u001B[39m\u001B[38;5;124mright_on=\u001B[39m\u001B[38;5;132;01m{\u001B[39;00mright_on\u001B[38;5;132;01m}\u001B[39;00m\u001B[38;5;124m, \u001B[39m\u001B[38;5;124m\"\u001B[39m\n\u001B[1;32m   1486\u001B[0m         \u001B[38;5;124mf\u001B[39m\u001B[38;5;124m\"\u001B[39m\u001B[38;5;124mleft_index=\u001B[39m\u001B[38;5;132;01m{\u001B[39;00m\u001B[38;5;28mself\u001B[39m\u001B[38;5;241m.\u001B[39mleft_index\u001B[38;5;132;01m}\u001B[39;00m\u001B[38;5;124m, \u001B[39m\u001B[38;5;124m\"\u001B[39m\n\u001B[1;32m   1487\u001B[0m         \u001B[38;5;124mf\u001B[39m\u001B[38;5;124m\"\u001B[39m\u001B[38;5;124mright_index=\u001B[39m\u001B[38;5;132;01m{\u001B[39;00m\u001B[38;5;28mself\u001B[39m\u001B[38;5;241m.\u001B[39mright_index\u001B[38;5;132;01m}\u001B[39;00m\u001B[38;5;124m\"\u001B[39m\n\u001B[1;32m   1488\u001B[0m     )\n\u001B[1;32m   1489\u001B[0m \u001B[38;5;28;01mif\u001B[39;00m (\n\u001B[1;32m   1490\u001B[0m     \u001B[38;5;129;01mnot\u001B[39;00m left_cols\u001B[38;5;241m.\u001B[39mjoin(common_cols, how\u001B[38;5;241m=\u001B[39m\u001B[38;5;124m\"\u001B[39m\u001B[38;5;124minner\u001B[39m\u001B[38;5;124m\"\u001B[39m)\u001B[38;5;241m.\u001B[39mis_unique\n\u001B[1;32m   1491\u001B[0m     \u001B[38;5;129;01mor\u001B[39;00m \u001B[38;5;129;01mnot\u001B[39;00m right_cols\u001B[38;5;241m.\u001B[39mjoin(common_cols, how\u001B[38;5;241m=\u001B[39m\u001B[38;5;124m\"\u001B[39m\u001B[38;5;124minner\u001B[39m\u001B[38;5;124m\"\u001B[39m)\u001B[38;5;241m.\u001B[39mis_unique\n\u001B[1;32m   1492\u001B[0m ):\n\u001B[1;32m   1493\u001B[0m     \u001B[38;5;28;01mraise\u001B[39;00m MergeError(\u001B[38;5;124mf\u001B[39m\u001B[38;5;124m\"\u001B[39m\u001B[38;5;124mData columns not unique: \u001B[39m\u001B[38;5;132;01m{\u001B[39;00m\u001B[38;5;28mrepr\u001B[39m(common_cols)\u001B[38;5;132;01m}\u001B[39;00m\u001B[38;5;124m\"\u001B[39m)\n",
      "\u001B[0;31mMergeError\u001B[0m: No common columns to perform merge on. Merge options: left_on=None, right_on=None, left_index=False, right_index=False"
     ]
    }
   ],
   "source": [
    "#Now lets join it with our movies df and add flags to countries\n",
    "movies_by_country_df.merge(flag_df, left_on='Country', right_on='index')"
   ]
  },
  {
   "cell_type": "markdown",
   "metadata": {
    "collapsed": true,
    "slideshow": {
     "slide_type": "subslide"
    }
   },
   "source": [
    "## At this point we should know:\n",
    "\n",
    "1. How to read complex excels\n",
    "2. How to add a new column to a database\n",
    "3. How to group dataframe by a column and aggregate the results\n",
    "4. How to Join 2 datasets\n",
    "\n",
    "***\n",
    "\n",
    "\n",
    "_Let's take a 5 minute break_\n",
    "\n",
    "<img src=\"../data/images/tea.jpg\"  style=\"width: 300px;\" />"
   ]
  },
  {
   "cell_type": "code",
   "execution_count": null,
   "metadata": {},
   "outputs": [],
   "source": []
  }
 ],
 "metadata": {
  "celltoolbar": "Slideshow",
  "kernelspec": {
   "display_name": "Python 3 (ipykernel)",
   "language": "python",
   "name": "python3"
  },
  "language_info": {
   "codemirror_mode": {
    "name": "ipython",
    "version": 3
   },
   "file_extension": ".py",
   "mimetype": "text/x-python",
   "name": "python",
   "nbconvert_exporter": "python",
   "pygments_lexer": "ipython3",
   "version": "3.9.13"
  }
 },
 "nbformat": 4,
 "nbformat_minor": 2
}
